{
 "cells": [
  {
   "cell_type": "markdown",
   "id": "875bb4da",
   "metadata": {},
   "source": [
    "# Focus on Strings"
   ]
  },
  {
   "cell_type": "markdown",
   "id": "53056d11",
   "metadata": {},
   "source": [
    "Strings are the fundamental data type for characters. Here are a few:"
   ]
  },
  {
   "cell_type": "code",
   "execution_count": null,
   "id": "22f91534",
   "metadata": {},
   "outputs": [],
   "source": [
    "name = 'Bob'\n",
    "dog_name = 'Fuschia'\n",
    "flag = 'tfftftft'\n",
    "sentence = \"Isn't it lovely out today?\""
   ]
  },
  {
   "cell_type": "markdown",
   "id": "2d38c86e",
   "metadata": {},
   "source": [
    "Strings can be thought of as a list of characters, and the individual letters, numbers and symbols can be referred to using indexes, just like with lists:"
   ]
  },
  {
   "cell_type": "code",
   "execution_count": null,
   "id": "854f515f",
   "metadata": {},
   "outputs": [],
   "source": [
    "name[0]"
   ]
  },
  {
   "cell_type": "code",
   "execution_count": null,
   "id": "afb90ba6",
   "metadata": {},
   "outputs": [],
   "source": [
    "flag[5]"
   ]
  },
  {
   "cell_type": "markdown",
   "id": "6927f587",
   "metadata": {},
   "source": [
    "## String Slicing"
   ]
  },
  {
   "cell_type": "markdown",
   "id": "be93d667",
   "metadata": {},
   "source": [
    "However, there are a few other fancy ways to take \"slices\" of strings"
   ]
  },
  {
   "cell_type": "code",
   "execution_count": null,
   "id": "b266bb0d",
   "metadata": {},
   "outputs": [],
   "source": [
    "#characters at indexes 0 through 3\n",
    "dog_name[0:4]"
   ]
  },
  {
   "cell_type": "code",
   "execution_count": null,
   "id": "ee41a16e",
   "metadata": {},
   "outputs": [],
   "source": [
    "#last character\n",
    "name[-1]"
   ]
  },
  {
   "cell_type": "code",
   "execution_count": null,
   "id": "8191faec",
   "metadata": {},
   "outputs": [],
   "source": [
    "#last 3 characters\n",
    "sentence[-3:]"
   ]
  },
  {
   "cell_type": "code",
   "execution_count": null,
   "id": "2593b675",
   "metadata": {},
   "outputs": [],
   "source": [
    "#everything from index 4 onward\n",
    "flag[4:]"
   ]
  },
  {
   "cell_type": "code",
   "execution_count": null,
   "id": "10c17fd7",
   "metadata": {},
   "outputs": [],
   "source": [
    "#everything up to index 6\n",
    "sentence[:6]"
   ]
  },
  {
   "cell_type": "markdown",
   "id": "f938a2b1",
   "metadata": {},
   "source": [
    "### Question 1\n",
    "How many characters will be returned by the following slices?\n",
    "1) `flag[-4:]`\n",
    "2) `dog_name[3:5]`"
   ]
  },
  {
   "cell_type": "markdown",
   "id": "18e9d1b2",
   "metadata": {},
   "source": [
    "[your answer here]"
   ]
  },
  {
   "cell_type": "markdown",
   "id": "602805a9",
   "metadata": {},
   "source": [
    "*WARNING: It's very very easy to make \"off by one\" errors when working with strings!*"
   ]
  },
  {
   "cell_type": "markdown",
   "id": "f154108c",
   "metadata": {},
   "source": [
    "### Question 2\n",
    "Assign your first and last name to two different variables. Then, use string slicing and the + symbol to make a new name from the **first three letters of your last name followed by the first three letters of your first name**."
   ]
  },
  {
   "cell_type": "code",
   "execution_count": null,
   "id": "765ef635",
   "metadata": {},
   "outputs": [],
   "source": [
    "#your code here"
   ]
  },
  {
   "cell_type": "markdown",
   "id": "876064b5",
   "metadata": {},
   "source": [
    "## String Methods"
   ]
  },
  {
   "cell_type": "markdown",
   "id": "7e2b79e7",
   "metadata": {},
   "source": [
    "Since strings are also objects, they have many useful methods. Here are a couple of examples:\n"
   ]
  },
  {
   "cell_type": "code",
   "execution_count": null,
   "id": "d1e0b5d8",
   "metadata": {},
   "outputs": [],
   "source": [
    "#for Reference:\n",
    "name = 'Bob'\n",
    "dog_name = 'Fuschia'\n",
    "flag = 'tfftftft'\n",
    "sentence = \"Isn't it lovely out today?\""
   ]
  },
  {
   "cell_type": "code",
   "execution_count": null,
   "id": "be6fe7dc",
   "metadata": {},
   "outputs": [],
   "source": [
    "flag.count('t') #how many t"
   ]
  },
  {
   "cell_type": "code",
   "execution_count": null,
   "id": "bb8d8554",
   "metadata": {},
   "outputs": [],
   "source": [
    "sentence.find('it')"
   ]
  },
  {
   "cell_type": "code",
   "execution_count": null,
   "id": "f7dfa237",
   "metadata": {},
   "outputs": [],
   "source": [
    "sentence.find(' ') #returns the index of the first space in sentence"
   ]
  },
  {
   "cell_type": "code",
   "execution_count": null,
   "id": "15eec4bf",
   "metadata": {},
   "outputs": [],
   "source": [
    "sentence.replace('lovely', 'gigantic') #returns a string where everything matching the first argument gets replaced by the second argument"
   ]
  },
  {
   "cell_type": "code",
   "execution_count": null,
   "id": "659b9925",
   "metadata": {},
   "outputs": [],
   "source": [
    "print(sentence) #note that the original string hasn't changed!"
   ]
  },
  {
   "cell_type": "markdown",
   "id": "adc2940d",
   "metadata": {},
   "source": [
    "String methods can be applied with a . following even a string that hasn't been assigned to a variable!"
   ]
  },
  {
   "cell_type": "code",
   "execution_count": null,
   "id": "fb7d29a0",
   "metadata": {},
   "outputs": [],
   "source": [
    "'yikes'.upper()"
   ]
  },
  {
   "cell_type": "code",
   "execution_count": null,
   "id": "c6a5f422",
   "metadata": {},
   "outputs": [],
   "source": [
    "'CALM DOWN'.lower()"
   ]
  },
  {
   "cell_type": "code",
   "execution_count": null,
   "id": "306180c3",
   "metadata": {},
   "outputs": [],
   "source": [
    "'my super cool project'.title()"
   ]
  },
  {
   "cell_type": "markdown",
   "id": "74dfaaa5",
   "metadata": {},
   "source": [
    "Here's a really useful way to split up a sentence into individual words!"
   ]
  },
  {
   "cell_type": "code",
   "execution_count": null,
   "id": "0ae4b939",
   "metadata": {},
   "outputs": [],
   "source": [
    "sentence.split(' ') #returns a list from the string seperated by a chosen substring, in this case ' '"
   ]
  },
  {
   "cell_type": "markdown",
   "id": "32088bbb",
   "metadata": {},
   "source": [
    "Here's a helpful list of string methods: https://www.w3schools.com/python/python_ref_string.asp\n",
    "\n",
    "### Question 3\n",
    "Play around with any of the methods that you've seen or from the above list. Use them however seems interesting to you! Provide 3 examples of string method use."
   ]
  },
  {
   "cell_type": "code",
   "execution_count": null,
   "id": "4a210da6",
   "metadata": {},
   "outputs": [],
   "source": [
    "#your code here"
   ]
  },
  {
   "cell_type": "code",
   "execution_count": null,
   "id": "98973f36",
   "metadata": {},
   "outputs": [],
   "source": []
  },
  {
   "cell_type": "code",
   "execution_count": null,
   "id": "c5935969",
   "metadata": {},
   "outputs": [],
   "source": []
  },
  {
   "attachments": {
    "5fcf220220f3afa101f89cada899ee00.jpeg": {
     "image/jpeg": "[encoded data removed]"
    }
   },
   "cell_type": "markdown",
   "id": "8b3aebbe",
   "metadata": {},
   "source": [
    "### Question 4\n",
    "Create a function that returns your dragon name!\n",
    "\n",
    "![5fcf220220f3afa101f89cada899ee00.jpeg](attachment:5fcf220220f3afa101f89cada899ee00.jpeg)"
   ]
  },
  {
   "cell_type": "code",
   "execution_count": null,
   "id": "1fb32edd",
   "metadata": {},
   "outputs": [],
   "source": [
    "def dragon_name(first, last, mother, father):\n",
    "    #your code here"
   ]
  }
 ],
 "metadata": {
  "kernelspec": {
   "display_name": "Python 3 (ipykernel)",
   "language": "python",
   "name": "python3"
  },
  "language_info": {
   "codemirror_mode": {
    "name": "ipython",
    "version": 3
   },
   "file_extension": ".py",
   "mimetype": "text/x-python",
   "name": "python",
   "nbconvert_exporter": "python",
   "pygments_lexer": "ipython3",
   "version": "3.9.5"
  }
 },
 "nbformat": 4,
 "nbformat_minor": 5
}
