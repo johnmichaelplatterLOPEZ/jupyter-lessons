{
 "cells": [
  {
   "cell_type": "markdown",
   "metadata": {},
   "source": [
    "# Exploring Geometry with Python's Turtle\n"
   ]
  },
  {
   "cell_type": "markdown",
   "metadata": {},
   "source": [
    "### First, install ipython's turtle. Type the following into anaconda prompt (or terminal on mac):"
   ]
  },
  {
   "cell_type": "raw",
   "metadata": {},
   "source": [
    "pip install ipyturtle"
   ]
  },
  {
   "cell_type": "markdown",
   "metadata": {},
   "source": [
    "### Next, create import the Turtle Module, and then create a `Turtle()` object: "
   ]
  },
  {
   "cell_type": "code",
   "execution_count": null,
   "metadata": {},
   "outputs": [],
   "source": [
    "from ipyturtle import Turtle"
   ]
  },
  {
   "cell_type": "code",
   "execution_count": null,
   "metadata": {},
   "outputs": [],
   "source": [
    "t=Turtle()"
   ]
  },
  {
   "cell_type": "markdown",
   "metadata": {},
   "source": [
    "Now, `t` doesn't hold a number or a string or a list or anything, it holds a `Turtle()`"
   ]
  },
  {
   "cell_type": "code",
   "execution_count": null,
   "metadata": {},
   "outputs": [],
   "source": [
    "t"
   ]
  },
  {
   "cell_type": "markdown",
   "metadata": {},
   "source": [
    "`Turtle()`s can move forward,\n"
   ]
  },
  {
   "cell_type": "code",
   "execution_count": null,
   "metadata": {},
   "outputs": [],
   "source": [
    "t.forward(20) #20 here is a distance"
   ]
  },
  {
   "cell_type": "markdown",
   "metadata": {},
   "source": [
    "turn right,"
   ]
  },
  {
   "cell_type": "code",
   "execution_count": null,
   "metadata": {},
   "outputs": [],
   "source": [
    "t.right(90) #90 here means 90 degrees"
   ]
  },
  {
   "cell_type": "markdown",
   "metadata": {},
   "source": [
    "turn left,"
   ]
  },
  {
   "cell_type": "code",
   "execution_count": null,
   "metadata": {},
   "outputs": [],
   "source": [
    "t.left(100) #overshoots because we turned 100 degrees left"
   ]
  },
  {
   "cell_type": "markdown",
   "metadata": {},
   "source": [
    "and move backwards!"
   ]
  },
  {
   "cell_type": "code",
   "execution_count": null,
   "metadata": {},
   "outputs": [],
   "source": [
    "t.back(100)"
   ]
  },
  {
   "cell_type": "markdown",
   "metadata": {},
   "source": [
    "To reset the picture, you use `t.reset()`"
   ]
  },
  {
   "cell_type": "code",
   "execution_count": null,
   "metadata": {},
   "outputs": [],
   "source": [
    "t.reset()"
   ]
  },
  {
   "cell_type": "markdown",
   "metadata": {},
   "source": [
    "#### As a quick note, notice how we are using the `.` in a bit of a new way. That's because we are using a new style of coding.`t` in this code is something called an \"object\" and the commands we give it after the `.` (like `forward()`) are called \"methods.\" They are a lot like functions, but they come attached to the object."
   ]
  },
  {
   "cell_type": "markdown",
   "metadata": {},
   "source": [
    "Let's see if we can draw a box:"
   ]
  },
  {
   "cell_type": "code",
   "execution_count": null,
   "metadata": {},
   "outputs": [],
   "source": [
    "t.forward(20)\n",
    "t.right(90)"
   ]
  },
  {
   "cell_type": "code",
   "execution_count": null,
   "metadata": {},
   "outputs": [],
   "source": [
    "t.forward(40)\n",
    "t.right(90)"
   ]
  },
  {
   "cell_type": "markdown",
   "metadata": {},
   "source": [
    "Can you finish the box?"
   ]
  },
  {
   "cell_type": "code",
   "execution_count": null,
   "metadata": {},
   "outputs": [],
   "source": [
    "#your code to finish the box here"
   ]
  },
  {
   "cell_type": "code",
   "execution_count": null,
   "metadata": {},
   "outputs": [],
   "source": [
    "t.reset() #run this if you need to start over"
   ]
  },
  {
   "cell_type": "markdown",
   "metadata": {},
   "source": [
    "Now, see if you can make a big square:"
   ]
  },
  {
   "cell_type": "code",
   "execution_count": null,
   "metadata": {},
   "outputs": [],
   "source": [
    "t.reset()\n",
    "#your code here"
   ]
  },
  {
   "cell_type": "markdown",
   "metadata": {},
   "source": [
    "How about a triangle? (a bit trickier)"
   ]
  },
  {
   "cell_type": "code",
   "execution_count": null,
   "metadata": {},
   "outputs": [],
   "source": [
    "t.reset()\n",
    "#your triangle code here"
   ]
  },
  {
   "cell_type": "markdown",
   "metadata": {},
   "source": [
    "Let's make use of our old friend, the function. Using `def`, lets package a bunch of code together that draws a square so we can just bust out a square whenever we want."
   ]
  },
  {
   "cell_type": "markdown",
   "metadata": {},
   "source": [
    "#### this function will be named `draw_square` and the number we give it as an input will be stored in `size` so we can use it to draw a square however big we want"
   ]
  },
  {
   "cell_type": "code",
   "execution_count": null,
   "metadata": {},
   "outputs": [],
   "source": [
    "def draw_square(size): \n",
    "    t.forward(size)\n",
    "    t.right(90)\n",
    "    t.forward(size)\n",
    "    t.right(90)\n",
    "    t.forward(size)\n",
    "    t.right(90)\n",
    "    t.forward(size)\n",
    "    t.right(90)\n"
   ]
  },
  {
   "cell_type": "markdown",
   "metadata": {},
   "source": [
    "So let's test it:"
   ]
  },
  {
   "cell_type": "code",
   "execution_count": null,
   "metadata": {},
   "outputs": [],
   "source": [
    "t.reset()\n",
    "draw_square(100)"
   ]
  },
  {
   "cell_type": "markdown",
   "metadata": {},
   "source": [
    "Very satisfying!"
   ]
  },
  {
   "cell_type": "markdown",
   "metadata": {},
   "source": [
    "Ooo, I have an idea. Can you figure out what's going on here?"
   ]
  },
  {
   "cell_type": "code",
   "execution_count": null,
   "metadata": {},
   "outputs": [],
   "source": [
    "#part 1\n",
    "t.reset()\n",
    "for number in [100, 90, 80, 70, 60, 50, 40, 30, 20, 10]:\n",
    "    draw_square(number)"
   ]
  },
  {
   "cell_type": "markdown",
   "metadata": {},
   "source": [
    "More!!"
   ]
  },
  {
   "cell_type": "code",
   "execution_count": null,
   "metadata": {},
   "outputs": [],
   "source": [
    "#part 2\n",
    "t.reset()\n",
    "for number in [100, 90, 80, 70, 60, 50, 40, 30, 20, 10]:\n",
    "    draw_square(number)\n",
    "\n",
    "t.right(90)\n",
    "\n",
    "for number in [100, 90, 80, 70, 60, 50, 40, 30, 20, 10]:\n",
    "    draw_square(number)\n",
    "\n",
    "t.right(90)\n",
    "\n",
    "for number in [100, 90, 80, 70, 60, 50, 40, 30, 20, 10]:\n",
    "    draw_square(number)\n",
    "\n",
    "t.right(90)\n",
    "\n",
    "for number in [100, 90, 80, 70, 60, 50, 40, 30, 20, 10]:\n",
    "    draw_square(number)\n"
   ]
  },
  {
   "cell_type": "markdown",
   "metadata": {},
   "source": [
    "Let's see if we can clean that up..."
   ]
  },
  {
   "cell_type": "code",
   "execution_count": null,
   "metadata": {},
   "outputs": [],
   "source": [
    "#part 3\n",
    "def draw_square_layers():\n",
    "    for number in range(100, 0, -10): #works the same way as the list I hand-typed earlier, huh?\n",
    "        draw_square(number)\n",
    "\n",
    "t.reset()\n",
    "for i in range(4):\n",
    "    draw_square_layers()\n",
    "    t.right(90)"
   ]
  },
  {
   "cell_type": "markdown",
   "metadata": {},
   "source": [
    "In your own words, explain what the code is doing in part 1, part 2, then in part 3. Use the cell below to type your thoughts."
   ]
  },
  {
   "cell_type": "markdown",
   "metadata": {},
   "source": [
    "***(Double click me if you need to change me. By the way, I'm called  a \"markdown cell\")***\n",
    "\n",
    "Part 1:\n",
    "\n",
    "Part 2:\n",
    "\n",
    "Part 3:"
   ]
  },
  {
   "cell_type": "markdown",
   "metadata": {},
   "source": [
    "## Using `penup()`, `pendown()` and `pencolor()`"
   ]
  },
  {
   "cell_type": "markdown",
   "metadata": {},
   "source": [
    "You may have noticed that the `Turtle()` leaves a line trail everywhere he goes. You can control this with penup() and pendown()"
   ]
  },
  {
   "cell_type": "code",
   "execution_count": null,
   "metadata": {},
   "outputs": [],
   "source": [
    "t.reset()\n",
    "\n",
    "#draw first line\n",
    "t.forward(20)\n",
    "\n",
    "#make a gap\n",
    "t.penup()\n",
    "t.forward(20)\n",
    "\n",
    "#draw next line, etc..\n",
    "t.pendown()\n",
    "t.forward(20)\n",
    "t.penup()\n",
    "t.forward(20)\n",
    "\n",
    "t.pendown()\n",
    "t.forward(20)\n",
    "t.penup()\n",
    "t.forward(20)\n",
    "\n",
    "t.pendown()\n",
    "t.forward(20)\n",
    "t.penup()\n",
    "t.forward(20)\n",
    "\n",
    "t.pendown()\n"
   ]
  },
  {
   "cell_type": "markdown",
   "metadata": {},
   "source": [
    "Notice how this made a dotted line kind of shape. We were \"picking up\" the `Turtle()`'s pen during some of its movement."
   ]
  },
  {
   "cell_type": "markdown",
   "metadata": {},
   "source": [
    "Now, what about making different colors?\n"
   ]
  },
  {
   "cell_type": "code",
   "execution_count": null,
   "metadata": {},
   "outputs": [],
   "source": [
    "t.reset()\n",
    "\n",
    "t.pencolor(\"black\")\n",
    "t.forward(20)\n",
    "\n",
    "t.pencolor(\"red\")\n",
    "t.forward(20)\n",
    "\n",
    "t.pencolor(\"blue\")\n",
    "t.forward(20)\n",
    "\n",
    "t.pencolor(\"green\")\n",
    "t.forward(20)\n",
    "\n",
    "t.pencolor(\"pink\")\n",
    "t.forward(20)\n",
    "\n",
    "t.pencolor(\"maroon\")\n",
    "t.forward(20)"
   ]
  },
  {
   "cell_type": "markdown",
   "metadata": {},
   "source": [
    "essentially, just give `pencolor()` a string that is a color name and it will probably figure it out."
   ]
  },
  {
   "cell_type": "code",
   "execution_count": null,
   "metadata": {},
   "outputs": [],
   "source": [
    "t.pencolor(\"cat\") #if it doesn't know the color, it will just ignore you\n",
    "t.forward(20)"
   ]
  },
  {
   "cell_type": "markdown",
   "metadata": {},
   "source": [
    "You can also use RGB color format, which essentially just tells the computer how bright the red, green and blue pixels on your screen should be at that point. You can make all kinds of colors that way."
   ]
  },
  {
   "cell_type": "markdown",
   "metadata": {},
   "source": [
    "#### Look up lots of colors in RGB form here: https://www.w3schools.com/colors/colors_picker.asp\n",
    "#### Here's a nice purple color I found.\n"
   ]
  },
  {
   "cell_type": "code",
   "execution_count": null,
   "metadata": {},
   "outputs": [],
   "source": [
    "t.reset()\n",
    "t.pencolor(153, 0, 204)\n",
    "draw_square_layers()"
   ]
  },
  {
   "cell_type": "markdown",
   "metadata": {},
   "source": [
    "Now here's a something I just thought of:"
   ]
  },
  {
   "cell_type": "code",
   "execution_count": null,
   "metadata": {},
   "outputs": [],
   "source": [
    "t.reset()\n",
    "for i in range(100):\n",
    "    t.right(20)\n",
    "    draw_square(i*2)\n",
    "    t.pencolor(150, i*3,i*2) #think about how this makes the color change every time through the loop!"
   ]
  },
  {
   "cell_type": "markdown",
   "metadata": {},
   "source": [
    "Well, that was interesting."
   ]
  },
  {
   "cell_type": "code",
   "execution_count": null,
   "metadata": {},
   "outputs": [],
   "source": [
    "t.reset()\n",
    "t.pencolor(\"black\")"
   ]
  },
  {
   "cell_type": "markdown",
   "metadata": {},
   "source": [
    "## Exploration"
   ]
  },
  {
   "cell_type": "markdown",
   "metadata": {},
   "source": [
    "I think you have enough info to go and do some amazing turtle drawings. Here's what I'd like to see from you in this assignment:\n",
    "- Pick at least two suggested challenges to complete or design your own challenges\n",
    "- Use functions with `def` to make your life easier and repeat yourself less\n",
    "- Make sure to describe the challenge in a markdown cell or using comments (anything following `#`)\n",
    "- Feel free to make it colorful using `pencolor()`!\n",
    "\n",
    "Here are a few other pointers for working in Jupyter Notebooks:\n",
    "- when the box is green, you're in edit mode. To get back to command mode, hit \"Esc\"\n",
    "- to make new code cells, while in command mode, hit \"B\" for a new cell below or \"A\" for a new cell above\n",
    "- to delete cells, hit \"D\" twice in command mode. Go easy on the deleting...\n",
    "- to make a cell into a markdown cell, hit \"M\" from command mode\n",
    "- hitting \"Enter\" gets you into edit mode for that cell.\n",
    "- for a full list of keyboard shortcuts from within Jupyter Notebook, hit \"H\" from command mode"
   ]
  },
  {
   "cell_type": "markdown",
   "metadata": {},
   "source": [
    "Challenge 1 explanation"
   ]
  },
  {
   "cell_type": "code",
   "execution_count": null,
   "metadata": {},
   "outputs": [],
   "source": [
    "#challenge 1 code. Feel free to make more code boxes with \"B\""
   ]
  },
  {
   "cell_type": "markdown",
   "metadata": {},
   "source": [
    "Challenge 2 explanation"
   ]
  },
  {
   "cell_type": "code",
   "execution_count": null,
   "metadata": {},
   "outputs": [],
   "source": [
    "#challenge 2 code. Feel free to make more code boxes with \"B\""
   ]
  },
  {
   "cell_type": "markdown",
   "metadata": {},
   "source": [
    "Suggested challenges (pick 2):\n",
    "\n",
    "1. Explore how long your sides must be to make a triangle. For example, if you have one side that is 100 units, as in `t.forward(100)`, can you make a triangle with two other sides that are 25 and 40 units? What do you believe is true about triangle sides in general?\n",
    "2. Make a triangle where all sides are the same length. (Hint: let all the angles be 60 degrees). Can you make a triangle where the angles add up to something besides 180 degrees? (e.g. 60+60+70) Explain your findings.\n",
    "3. We made a square together. Can you make a function that creates a shape with 5 equal sides (i.e., an equilateral pentagon)? How about 6 equal sides (an equilateral hexagon)? Can you figure out how to make any equilateral polygon? MEGA CHALLENGE: Write a function called polygon() that takes a number as an input and draws a shape with that many equal sides.\n",
    "4. Make a five pointed star. How about a 6, 7, 8 or 9 pointed star? MEGA CHALLENGE: Write a function called `star()` that takes an input number and draws a star with that number of points.\n",
    "5. Write your name with `Turtle()` code\n",
    "6. Search for python turtle graphics on the internet and find someone else's turtle drawing that you like that shows their code. Recreate it in this notebook (copy and paste will probably not quite work, as our `Turtle()` is named t and we are using `ipyturtle` instead of the usual `turtle`).  "
   ]
  },
  {
   "cell_type": "markdown",
   "metadata": {},
   "source": [
    "## I'll leave you with this little creation of my own."
   ]
  },
  {
   "cell_type": "code",
   "execution_count": null,
   "metadata": {},
   "outputs": [],
   "source": [
    "from ipyturtle import Turtle\n",
    "t=Turtle()\n",
    "t"
   ]
  },
  {
   "cell_type": "code",
   "execution_count": null,
   "metadata": {},
   "outputs": [],
   "source": [
    "from time import sleep\n",
    "\n",
    "def slow_square(size):\n",
    "    t.forward(size)\n",
    "    t.right(90)\n",
    "    sleep(.5) #this is why the Turtle waits around for half a second each move\n",
    "    \n",
    "    t.forward(size)\n",
    "    t.right(90)\n",
    "    sleep(.5)\n",
    "    \n",
    "    t.forward(size)\n",
    "    t.right(90)\n",
    "    sleep(.5)\n",
    "    \n",
    "    t.forward(size)\n",
    "    t.right(90)\n",
    "    sleep(.5)"
   ]
  },
  {
   "cell_type": "code",
   "execution_count": null,
   "metadata": {},
   "outputs": [],
   "source": [
    "def home():\n",
    "    t._turtle_location_x=0\n",
    "    t._turtle_location_y=0\n",
    "def draw_square_centered(size):\n",
    "    t.penup()\n",
    "    t.left(90)\n",
    "    t.forward(size/2)\n",
    "    t.left(90)\n",
    "    t.forward(size/2)\n",
    "    t.right(180)\n",
    "    t.pendown()\n",
    "    slow_square(size)\n",
    "    home()"
   ]
  },
  {
   "cell_type": "code",
   "execution_count": null,
   "metadata": {},
   "outputs": [],
   "source": [
    "t.reset()\n",
    "for i in range(0, 300, 10):\n",
    "    draw_square_centered(i)\n",
    "    t.right(13)\n",
    "    t.pencolor((i*251)%255, (i*7)%255, (i*9)%255)"
   ]
  },
  {
   "cell_type": "markdown",
   "metadata": {},
   "source": [
    "## And finally, if you're curious, check out the code for `Turtle()` itself! See how much of it you can understand. Python Modules are all written in Python, and you can learn a lot from reading them in full. (That's how I learned about `_turtle_location_x` in my code above.) Here's how you view the full Turtle code:"
   ]
  },
  {
   "cell_type": "code",
   "execution_count": null,
   "metadata": {},
   "outputs": [],
   "source": [
    "import inspect\n",
    "print(inspect.getsource(Turtle))"
   ]
  },
  {
   "cell_type": "markdown",
   "metadata": {},
   "source": [
    "Created by John Platter (2020)"
   ]
  }
 ],
 "metadata": {
  "kernelspec": {
   "display_name": "Python 3 (ipykernel)",
   "language": "python",
   "name": "python3"
  },
  "language_info": {
   "codemirror_mode": {
    "name": "ipython",
    "version": 3
   },
   "file_extension": ".py",
   "mimetype": "text/x-python",
   "name": "python",
   "nbconvert_exporter": "python",
   "pygments_lexer": "ipython3",
   "version": "3.9.5"
  }
 },
 "nbformat": 4,
 "nbformat_minor": 4
}
