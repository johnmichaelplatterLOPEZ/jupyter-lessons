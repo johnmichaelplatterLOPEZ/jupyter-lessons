{
 "cells": [
  {
   "cell_type": "markdown",
   "metadata": {},
   "source": [
    "# Randomness and Probability"
   ]
  },
  {
   "cell_type": "markdown",
   "metadata": {},
   "source": [
    "In this week's lesson, we're going to explore the different functions and methods python has to learn about probabilities. We'll even perform some virtual experiements to illustrate some important probability concepts. \n",
    "\n",
    "As a quick recap: probability is a math term that refers to how **likely** something is to happen. Probabilities can be expressed as a fraction or decimal between 0 and 1, where **0** is the probability of something that *can't ever happen*, **1** is the probability of something that will *always happen no matter what*, and an outcome with probability **0.5** or **$\\frac{1}{2}$** will likely happen half the time. (2 out of 4 tries, 10 out of 20 tries, 50 out of 100 tries, and so on)\n",
    "\n",
    "\n",
    "The math concept of probability is completely tied to the idea of randomness. When situations are random, there's no certain way to predict how they will turn out. We can only make guesses that some outcomes are likely and others are unlikely. A standard example is a coin flip - we can be pretty certain that \"heads\" will be face up about $\\frac{1}{2}$ of the time, so the probability is **0.5**. However, every time you wake up, you are on planet Earth, so the likelyhood that you are on Earth when you wake up in the morning is virtually **1**. (in the year 2020 at least) \n",
    "\n",
    "I'm sure you can think of a fun example for an outcome that has a **0** probability...\n",
    "\n"
   ]
  },
  {
   "cell_type": "markdown",
   "metadata": {},
   "source": [
    "## Coding a bag full of marbles"
   ]
  },
  {
   "cell_type": "markdown",
   "metadata": {},
   "source": [
    "Well, let's get to it. First we'll import the `random` module."
   ]
  },
  {
   "cell_type": "code",
   "execution_count": null,
   "metadata": {},
   "outputs": [],
   "source": [
    "import random"
   ]
  },
  {
   "cell_type": "markdown",
   "metadata": {},
   "source": [
    "Next, we'll fill a bag with a few marbles. \n",
    "#### More specifically, we're assigning the variable `bag` a list with 8 elements that are the string `yellow` and 8 elements that are the string `blue`. "
   ]
  },
  {
   "cell_type": "code",
   "execution_count": null,
   "metadata": {},
   "outputs": [],
   "source": [
    "bag=['yellow','yellow','yellow','yellow',\n",
    "    'yellow','yellow','yellow','yellow',\n",
    "    'blue','blue','blue','blue',\n",
    "    'blue','blue','blue','blue']"
   ]
  },
  {
   "cell_type": "code",
   "execution_count": null,
   "metadata": {},
   "outputs": [],
   "source": [
    "print(bag) #take a look in the bag"
   ]
  },
  {
   "cell_type": "markdown",
   "metadata": {},
   "source": [
    "It was a bit painful typing that by hand, so here's a quicker way of making that list. We can multiply lists to copy them a certain number of times, and we can add lists to stick the lists together. Pretty logical, I think.\n",
    "\n",
    "#### Now `bag` should have 10 of each color"
   ]
  },
  {
   "cell_type": "code",
   "execution_count": null,
   "metadata": {},
   "outputs": [],
   "source": [
    "bag=['yellow']*10+['blue']*10\n",
    "print(bag)"
   ]
  },
  {
   "cell_type": "markdown",
   "metadata": {},
   "source": [
    "Here's how we can take a list and count the number of repeated elements:"
   ]
  },
  {
   "cell_type": "code",
   "execution_count": null,
   "metadata": {},
   "outputs": [],
   "source": [
    "bag.count('blue')"
   ]
  },
  {
   "cell_type": "code",
   "execution_count": null,
   "metadata": {},
   "outputs": [],
   "source": [
    "bag.count('yellow')"
   ]
  },
  {
   "cell_type": "markdown",
   "metadata": {},
   "source": [
    "And here's how we grab the entry at index 0 (the \"first\" entry):"
   ]
  },
  {
   "cell_type": "code",
   "execution_count": null,
   "metadata": {},
   "outputs": [],
   "source": [
    "bag[0]"
   ]
  },
  {
   "cell_type": "markdown",
   "metadata": {},
   "source": [
    "and the element at index 1: \n",
    "#### (the, erm... \"second\" entry?? These are bad words for this purpose):"
   ]
  },
  {
   "cell_type": "code",
   "execution_count": null,
   "metadata": {},
   "outputs": [],
   "source": [
    "bag[1]"
   ]
  },
  {
   "cell_type": "markdown",
   "metadata": {},
   "source": [
    "and so on:"
   ]
  },
  {
   "cell_type": "code",
   "execution_count": null,
   "metadata": {},
   "outputs": [],
   "source": [
    "bag[3]"
   ]
  },
  {
   "cell_type": "code",
   "execution_count": null,
   "metadata": {},
   "outputs": [],
   "source": [
    "bag[9]"
   ]
  },
  {
   "cell_type": "code",
   "execution_count": null,
   "metadata": {},
   "outputs": [],
   "source": [
    "bag[10]"
   ]
  },
  {
   "cell_type": "code",
   "execution_count": null,
   "metadata": {},
   "outputs": [],
   "source": [
    "bag[19]"
   ]
  },
  {
   "cell_type": "code",
   "execution_count": null,
   "metadata": {},
   "outputs": [],
   "source": [
    "bag[20]"
   ]
  },
  {
   "cell_type": "markdown",
   "metadata": {},
   "source": [
    "Uh-oh, why did that happen? Please explain why `bag[20]` gives `list index out of range`...\n",
    "\n",
    "[your explanation here]"
   ]
  },
  {
   "cell_type": "markdown",
   "metadata": {},
   "source": [
    "Now lets use the `random` module. `random.shuffle( )` takes a list and changes it so that the elements are all in randomly different places:"
   ]
  },
  {
   "cell_type": "code",
   "execution_count": null,
   "metadata": {},
   "outputs": [],
   "source": [
    "random.shuffle(bag)\n",
    "print(bag)"
   ]
  },
  {
   "cell_type": "markdown",
   "metadata": {},
   "source": [
    "As you repeat the above code cell, the following cell will print out whatever is at the beginning of `bag` after it is randomly shuffled. What is the probability that the following cell prints `blue`?\n",
    "\n",
    "[your response here]"
   ]
  },
  {
   "cell_type": "code",
   "execution_count": null,
   "metadata": {},
   "outputs": [],
   "source": [
    "print(bag[0])"
   ]
  },
  {
   "cell_type": "markdown",
   "metadata": {},
   "source": [
    "The following code is similar to an experiment were your friend shakes up a bag of marbles (10 yellow and 10 blue), asks you to draw one and then record the color 20 different times, making sure you put the marble back in the bag each time:"
   ]
  },
  {
   "cell_type": "code",
   "execution_count": null,
   "metadata": {},
   "outputs": [],
   "source": [
    "for i in range(20):\n",
    "    random.shuffle(bag) #these two lines happen 20 times\n",
    "    print(bag[0])       #"
   ]
  },
  {
   "cell_type": "markdown",
   "metadata": {},
   "source": [
    "What is the ratio of blue marbles drawn to total marbles drawn? Should this always be equal to $\\frac{1}{2}$? If you repeat the experiment, is the ratio the same? Explain:\n",
    "\n",
    "[your answer here]"
   ]
  },
  {
   "cell_type": "markdown",
   "metadata": {},
   "source": [
    "## Getting more efficient"
   ]
  },
  {
   "cell_type": "markdown",
   "metadata": {},
   "source": [
    "Counting everything by hand is good to help guide your understanding, but it's also a little tedious. In this next section, we'll get python to do all the dirty work for us. \n",
    "\n",
    "Let's imagine an empty bag called `empty`. We'll assign it the empty list `[]`. We can then \"fill\" it with our data by using the `append( )` method, as demonstrated by the following three cells:"
   ]
  },
  {
   "cell_type": "code",
   "execution_count": null,
   "metadata": {},
   "outputs": [],
   "source": [
    "empty=[]\n",
    "empty"
   ]
  },
  {
   "cell_type": "code",
   "execution_count": null,
   "metadata": {},
   "outputs": [],
   "source": [
    "empty.append('green')\n",
    "empty"
   ]
  },
  {
   "cell_type": "code",
   "execution_count": null,
   "metadata": {},
   "outputs": [],
   "source": [
    "empty.append('red')\n",
    "empty"
   ]
  },
  {
   "cell_type": "markdown",
   "metadata": {},
   "source": [
    "#### (`append` always puts its input at the end of the list it is called with.)"
   ]
  },
  {
   "cell_type": "markdown",
   "metadata": {},
   "source": [
    "So, with this in mind, let's repeat our experiment, and collect the data about our random draws in `empty` (no, it won't be empty after the for loop!) "
   ]
  },
  {
   "cell_type": "code",
   "execution_count": null,
   "metadata": {},
   "outputs": [],
   "source": [
    "empty=[]\n",
    "for i in range(20):\n",
    "    random.shuffle(bag) \n",
    "    empty.append(bag[0])\n",
    "print(empty) #this happens after everything indented above finishes"
   ]
  },
  {
   "cell_type": "markdown",
   "metadata": {},
   "source": [
    "Now, let's count the yellows and blues and store these in `results`"
   ]
  },
  {
   "cell_type": "code",
   "execution_count": null,
   "metadata": {},
   "outputs": [],
   "source": [
    "results=[empty.count('yellow'), empty.count('blue')]\n",
    "results"
   ]
  },
  {
   "cell_type": "markdown",
   "metadata": {},
   "source": [
    "And we can calculate the observed ratios like so"
   ]
  },
  {
   "cell_type": "code",
   "execution_count": null,
   "metadata": {},
   "outputs": [],
   "source": [
    "results[0]/20 #number of yellows to total trials"
   ]
  },
  {
   "cell_type": "code",
   "execution_count": null,
   "metadata": {},
   "outputs": [],
   "source": [
    "results[1]/20 #number of blues to total trials"
   ]
  },
  {
   "cell_type": "markdown",
   "metadata": {},
   "source": [
    "The great thing about python doing this work is that now we can ask it to do experiments that would take humans a very long time to do.\n",
    "#### This one is a similar experiment where 1000 draws are recorded before the ratios are calculated "
   ]
  },
  {
   "cell_type": "code",
   "execution_count": null,
   "metadata": {},
   "outputs": [],
   "source": [
    "empty=[]\n",
    "for i in range(1000):\n",
    "    random.shuffle(bag)\n",
    "    empty.append(bag[0])\n",
    "results=[empty.count('yellow'), empty.count('blue')]"
   ]
  },
  {
   "cell_type": "code",
   "execution_count": null,
   "metadata": {},
   "outputs": [],
   "source": [
    "results[0]/1000"
   ]
  },
  {
   "cell_type": "code",
   "execution_count": null,
   "metadata": {},
   "outputs": [],
   "source": [
    "results[1]/1000"
   ]
  },
  {
   "cell_type": "code",
   "execution_count": null,
   "metadata": {},
   "outputs": [],
   "source": [
    "empty #thanks python, for not making me count this up myself!"
   ]
  },
  {
   "cell_type": "markdown",
   "metadata": {},
   "source": [
    "We've been studying the experimentally observed probability of drawing from a bag of marbles. These types of observations are often called \"statistics.\" The observed outcomes of an experiment will often closely resemble the mathematical probability of that outcome, but thanks to randomness, we won't always get exactly $\\frac{10}{20}$ draws that are blue, or even $\\frac{500}{1000}$ draws that are blue. "
   ]
  },
  {
   "cell_type": "markdown",
   "metadata": {},
   "source": [
    "### First quick project:\n",
    "To wrap up this section up, write some code below that will fill a bag with 4 green marbles, 5 red marbles, and 16 pink marbles. Your code should calculate the observed probabilities of drawing a green, red and pink marbles."
   ]
  },
  {
   "cell_type": "markdown",
   "metadata": {},
   "source": [
    "Begin by calculating the simple probabilities of drawing a green, a red, and a pink marble:"
   ]
  },
  {
   "cell_type": "code",
   "execution_count": null,
   "metadata": {},
   "outputs": [],
   "source": [
    "# ratio of green to total"
   ]
  },
  {
   "cell_type": "code",
   "execution_count": null,
   "metadata": {},
   "outputs": [],
   "source": [
    "# ratio of red to total"
   ]
  },
  {
   "cell_type": "code",
   "execution_count": null,
   "metadata": {},
   "outputs": [],
   "source": [
    "# ratio of pink to total"
   ]
  },
  {
   "cell_type": "markdown",
   "metadata": {},
   "source": [
    "Next, assign `bag` a list containing 4, 5, and 16 strings that are `'red'`, `'green'`, and `'pink'` respectively. "
   ]
  },
  {
   "cell_type": "code",
   "execution_count": null,
   "metadata": {},
   "outputs": [],
   "source": [
    "bag ="
   ]
  },
  {
   "cell_type": "markdown",
   "metadata": {},
   "source": [
    "Create an `empty` list for keeping track of your draws, then run your experiment by shuffling the bag, drawing one of the elements, and appending it to empty. (do refer to my code above, but try writing it by yourself before copying)"
   ]
  },
  {
   "cell_type": "code",
   "execution_count": null,
   "metadata": {},
   "outputs": [],
   "source": [
    "empty=[]\n",
    "#next, use a for loop to repeat the shuffling, drawing and appending over and over"
   ]
  },
  {
   "cell_type": "markdown",
   "metadata": {},
   "source": [
    "Finally, calculate the number of 'red', 'green', and 'pink' draws divided by the number of trials to find your experimental probabilities."
   ]
  },
  {
   "cell_type": "code",
   "execution_count": null,
   "metadata": {},
   "outputs": [],
   "source": [
    "#hint: use empty.count('red') to find how many 'red' elements appear in empty"
   ]
  },
  {
   "cell_type": "markdown",
   "metadata": {},
   "source": [
    "Do your experimental probabilities look close to the simple probabilities you calculated at the beginning? When you repeat the experiment, does it seem to be close each time?\n",
    "\n",
    "[your response here]"
   ]
  },
  {
   "cell_type": "markdown",
   "metadata": {},
   "source": [
    "Let's move onto a different situation and study the multiplication rule of counting."
   ]
  },
  {
   "cell_type": "markdown",
   "metadata": {},
   "source": [
    "## Counting"
   ]
  },
  {
   "cell_type": "markdown",
   "metadata": {},
   "source": [
    "You may think, \"Mr. P, I've already learned how to count!\" And I would likely believe you. But, there are situations in the study of probability where counting the number of unique possible outcomes is actually pretty challenging, and certainly not obvious."
   ]
  },
  {
   "cell_type": "markdown",
   "metadata": {},
   "source": [
    "Let's pretend you have 4 different choices to make every day you get dressed for work. You'll choose one of each of the following:\n",
    "- 3 hats\n",
    "- 5 tops\n",
    "- 4 bottoms\n",
    "- 3 pairs of shoes"
   ]
  },
  {
   "cell_type": "markdown",
   "metadata": {},
   "source": [
    "Now, lets get creative."
   ]
  },
  {
   "cell_type": "code",
   "execution_count": null,
   "metadata": {},
   "outputs": [],
   "source": [
    "hats = ['cool hat', 'straw hat', 'Seattle Sonics hat']\n",
    "tops = ['blue t-shirt', 'red sweater', 'button down tee', 'XXXXL yellow tee', 'leather tee']\n",
    "bottoms = ['jeans', 'shorts', 'PJs', 'kilt']\n",
    "shoes = ['tennis shoes', 'clogs', 'fancy clogs']"
   ]
  },
  {
   "cell_type": "markdown",
   "metadata": {},
   "source": [
    "The `random` module has another useful method: `choice( )`\n",
    "\n",
    "It picks a random element from the list you give as its input, like so:"
   ]
  },
  {
   "cell_type": "code",
   "execution_count": null,
   "metadata": {},
   "outputs": [],
   "source": [
    "random.choice(tops)"
   ]
  },
  {
   "cell_type": "markdown",
   "metadata": {},
   "source": [
    "Each time you run the above code, it will output a random pick from the list `tops`."
   ]
  },
  {
   "cell_type": "markdown",
   "metadata": {},
   "source": [
    "Next, mainly for our enjoyment, let's pick a random outfit:"
   ]
  },
  {
   "cell_type": "code",
   "execution_count": null,
   "metadata": {},
   "outputs": [],
   "source": [
    "random.choice(hats)+random.choice(tops)+random.choice(bottoms)+random.choice(shoes)"
   ]
  },
  {
   "cell_type": "markdown",
   "metadata": {},
   "source": [
    "Here is a way that's a bit more organized:"
   ]
  },
  {
   "cell_type": "code",
   "execution_count": null,
   "metadata": {},
   "outputs": [],
   "source": [
    "outfit=[]\n",
    "\n",
    "hat=random.choice(hats)\n",
    "top=random.choice(tops)\n",
    "bottom=random.choice(bottoms)\n",
    "shoe=random.choice(shoes)\n",
    "\n",
    "print([hat,top,bottom,shoe])"
   ]
  },
  {
   "cell_type": "markdown",
   "metadata": {},
   "source": [
    "How could you print out all the elements of `top`, one by one?"
   ]
  },
  {
   "cell_type": "code",
   "execution_count": null,
   "metadata": {},
   "outputs": [],
   "source": [
    "# your code here"
   ]
  },
  {
   "cell_type": "code",
   "execution_count": null,
   "metadata": {},
   "outputs": [],
   "source": [
    "\"\"\"Try it by yourself\n",
    "\n",
    ".\n",
    ".\n",
    ".\n",
    ".\n",
    "\n",
    "Before you look at my answer below\n",
    "\n",
    ".\n",
    ".\n",
    ".\n",
    ".\n",
    ".\n",
    ".\n",
    "\n",
    "Just see if you can, then copy if you're not sure!\n",
    "\n",
    "\n",
    ".\n",
    ".\n",
    ".\n",
    ".\n",
    ".\n",
    "\n",
    "Ok here's my answer!\"\"\""
   ]
  },
  {
   "cell_type": "code",
   "execution_count": null,
   "metadata": {},
   "outputs": [],
   "source": [
    "for t in tops:\n",
    "    print(t)"
   ]
  },
  {
   "cell_type": "markdown",
   "metadata": {},
   "source": [
    "Great! Let's pose the question we're all dying to figure out: \n",
    "\n",
    "## How many different outfits are possible given your current wardrobe?\n",
    "\n",
    "It's not an obvious question, but we'll soon learn that it is a mathematically simple one to answer.\n",
    "\n",
    "But first, let's see if we can get python to print out every unique outfit we could choose."
   ]
  },
  {
   "cell_type": "markdown",
   "metadata": {},
   "source": [
    "Let's use a similar approach as in our last experiment: start with an empty list of `outfits`, then append all the choices of hat, top, bottom and shoes one after the other."
   ]
  },
  {
   "cell_type": "code",
   "execution_count": null,
   "metadata": {},
   "outputs": [],
   "source": [
    "outfits=[]\n",
    "for hat in hats:\n",
    "\n",
    "    for top in tops:\n",
    "\n",
    "        for bottom in bottoms:\n",
    "\n",
    "            for s in shoes:\n",
    "                outfits.append([hat, top, bottom, s])"
   ]
  },
  {
   "cell_type": "code",
   "execution_count": null,
   "metadata": {},
   "outputs": [],
   "source": [
    "outfits # you can learn a lot about for loops by trying to find the pattern in this list!"
   ]
  },
  {
   "cell_type": "markdown",
   "metadata": {},
   "source": [
    "Now, finding the length of our list `outfits` is easy using the common python function, `len( )`:"
   ]
  },
  {
   "cell_type": "code",
   "execution_count": null,
   "metadata": {},
   "outputs": [],
   "source": [
    "len(outfits)"
   ]
  },
  {
   "cell_type": "markdown",
   "metadata": {},
   "source": [
    "Perhaps you have already figured out the quick way of finding the answer to the question of how many unique outfits we have, but if not, here's a hint:"
   ]
  },
  {
   "cell_type": "code",
   "execution_count": null,
   "metadata": {},
   "outputs": [],
   "source": [
    "3*5*4*3"
   ]
  },
  {
   "cell_type": "markdown",
   "metadata": {},
   "source": [
    "So, please explain, what do you think the \"rule of product\" means for counting? (see https://en.wikipedia.org/wiki/Rule_of_product for a way too complicated answer)\n",
    "\n",
    "[your answer here]"
   ]
  },
  {
   "cell_type": "markdown",
   "metadata": {},
   "source": [
    "Now, wasn't that satisfying? 180 outfits, count-em! And yes, I could have just told you to multiply the number of hats by the number of tops by the number of bottoms by the number of pairs of shoes, but would you have believed me? I think it's much more convincing to let python **show** you every single unique outfit. Plus, now I have a great new way to get dressed in the morning!"
   ]
  },
  {
   "cell_type": "code",
   "execution_count": null,
   "metadata": {},
   "outputs": [],
   "source": [
    "random.choice(outfits)"
   ]
  },
  {
   "cell_type": "markdown",
   "metadata": {},
   "source": [
    "## Card games"
   ]
  },
  {
   "cell_type": "markdown",
   "metadata": {},
   "source": [
    "The last situation I want to explore in our Randomness assignment involves a deck of cards. If you're not familiar with what a deck of cards consists of, please quickly skim https://boardgamegeek.com/wiki/page/standard_deck_playing_card_games"
   ]
  },
  {
   "cell_type": "markdown",
   "metadata": {},
   "source": [
    "Lets think about how python could generate a deck of cards."
   ]
  },
  {
   "cell_type": "code",
   "execution_count": null,
   "metadata": {},
   "outputs": [],
   "source": [
    "suits = ['♤', '♧', '♡', '♢']\n",
    "cards = ['A']+list(range(2,11))+['J','Q','K'] # range(2,11) won't include 10"
   ]
  },
  {
   "cell_type": "code",
   "execution_count": null,
   "metadata": {},
   "outputs": [],
   "source": [
    "deck=[]\n",
    "for suit in suits:\n",
    "    for card in cards:\n",
    "        deck.append(str(card) + suit) #without str(card), sometimes we'd be adding an int to a str!"
   ]
  },
  {
   "cell_type": "code",
   "execution_count": null,
   "metadata": {},
   "outputs": [],
   "source": [
    "print(deck)"
   ]
  },
  {
   "cell_type": "code",
   "execution_count": null,
   "metadata": {},
   "outputs": [],
   "source": [
    "len(deck) #hopefully we have 52 cards!"
   ]
  },
  {
   "cell_type": "markdown",
   "metadata": {},
   "source": [
    "In fact, let's capture all that code as a nice buttoned-up function, `make_deck()`."
   ]
  },
  {
   "cell_type": "code",
   "execution_count": null,
   "metadata": {},
   "outputs": [],
   "source": [
    "def make_deck(): #this function has no input! That's ok, we don't need any input...\n",
    "    suits = ['♤', '♧', '♡', '♢']\n",
    "    cards = ['A']+list(range(2,11))+['J','Q','K']\n",
    "    deck=[]\n",
    "    for suit in suits:\n",
    "        for card in cards:\n",
    "            deck.append(str(card) + suit) #without str(card), sometimes we'd be adding an int to a str!\n",
    "    return deck #but it does have output!"
   ]
  },
  {
   "cell_type": "markdown",
   "metadata": {},
   "source": [
    "Now we can reset our deck by assigning `make_deck()` to a variable."
   ]
  },
  {
   "cell_type": "code",
   "execution_count": null,
   "metadata": {},
   "outputs": [],
   "source": [
    "deck=make_deck()\n",
    "deck"
   ]
  },
  {
   "cell_type": "markdown",
   "metadata": {},
   "source": [
    "Ok, great! Now that `deck` holds a full deck of cards, we can proceed to play around with some playing card probabilities!"
   ]
  },
  {
   "cell_type": "markdown",
   "metadata": {},
   "source": [
    "How could we draw a card at random?"
   ]
  },
  {
   "cell_type": "code",
   "execution_count": null,
   "metadata": {},
   "outputs": [],
   "source": [
    "# your code here"
   ]
  },
  {
   "cell_type": "markdown",
   "metadata": {},
   "source": [
    "How could we shuffle the deck? (randomly change the position of every card in the deck)"
   ]
  },
  {
   "cell_type": "code",
   "execution_count": null,
   "metadata": {},
   "outputs": [],
   "source": [
    "# your code here"
   ]
  },
  {
   "cell_type": "markdown",
   "metadata": {},
   "source": [
    "The `pop()` method will draw an element from a list, then remove it from that list. It takes the index number you wish to remove and returns the element: "
   ]
  },
  {
   "cell_type": "code",
   "execution_count": null,
   "metadata": {},
   "outputs": [],
   "source": [
    "card=deck.pop(0) #draw the card at index 0 and remove it\n",
    "card"
   ]
  },
  {
   "cell_type": "markdown",
   "metadata": {},
   "source": [
    "This is a lot like drawing the first card from the pile."
   ]
  },
  {
   "cell_type": "code",
   "execution_count": null,
   "metadata": {},
   "outputs": [],
   "source": [
    "deck"
   ]
  },
  {
   "cell_type": "markdown",
   "metadata": {},
   "source": [
    "Since we're going to be drawing a lot of cards, let's make this action into a nice function:"
   ]
  },
  {
   "cell_type": "code",
   "execution_count": null,
   "metadata": {},
   "outputs": [],
   "source": [
    "def draw_top(d):\n",
    "    return d.pop(0)"
   ]
  },
  {
   "cell_type": "code",
   "execution_count": null,
   "metadata": {},
   "outputs": [],
   "source": [
    "draw_top(deck)"
   ]
  },
  {
   "cell_type": "markdown",
   "metadata": {},
   "source": [
    "Eventually though, we will want to be able to draw a random card and then remove that card from the deck. We can do that with the `remove( )` method:"
   ]
  },
  {
   "cell_type": "code",
   "execution_count": null,
   "metadata": {},
   "outputs": [],
   "source": [
    "draw = random.choice(deck)\n",
    "deck.remove(draw) #draw holds our card\n",
    "print(draw)"
   ]
  },
  {
   "cell_type": "code",
   "execution_count": null,
   "metadata": {},
   "outputs": [],
   "source": [
    "deck #now the deck doesn't have that card either"
   ]
  },
  {
   "cell_type": "markdown",
   "metadata": {},
   "source": [
    "It would probably be convenient to make a function that does this for us, since we'll be doing it a lot. Give it a try! Write a function `draw_card( )` that takes a list of cards as an input, chooses one at random, removes it from the list and returns it!"
   ]
  },
  {
   "cell_type": "code",
   "execution_count": null,
   "metadata": {},
   "outputs": [],
   "source": [
    "# give it a try, scroll down to see my solution"
   ]
  },
  {
   "cell_type": "code",
   "execution_count": null,
   "metadata": {},
   "outputs": [],
   "source": [
    "\"\"\"Nothing to see here folks\n",
    ".\n",
    ".\n",
    ".\n",
    ".\n",
    ".\n",
    ".\n",
    "This is a placeholder so you can't see my answer...\n",
    ".\n",
    ".\n",
    ".\n",
    ".\n",
    ".\n",
    "My answer is below, but try it above first!\n",
    ".\n",
    ".\n",
    ".\n",
    ".\n",
    ".\n",
    "Really, give it a try!\n",
    ".\n",
    ".\n",
    ".\n",
    ".\n",
    ".\n",
    ".\n",
    ".\n",
    ".\n",
    ".\n",
    ".\n",
    ".\n",
    ".\n",
    "Remember, \"mistakes are proof that you are trying!\"\"\""
   ]
  },
  {
   "cell_type": "code",
   "execution_count": null,
   "metadata": {},
   "outputs": [],
   "source": [
    "def draw_card(d):\n",
    "    draw=random.choice(d)\n",
    "    d.remove(draw)\n",
    "    return draw"
   ]
  },
  {
   "cell_type": "code",
   "execution_count": null,
   "metadata": {},
   "outputs": [],
   "source": [
    "draw_card(deck)"
   ]
  },
  {
   "cell_type": "code",
   "execution_count": null,
   "metadata": {},
   "outputs": [],
   "source": [
    "len(deck)"
   ]
  },
  {
   "cell_type": "markdown",
   "metadata": {},
   "source": [
    "How'd you do? Ok, well we're pretty well set up to do some random card experiments now. Let's start by resetting our deck of cards:"
   ]
  },
  {
   "cell_type": "code",
   "execution_count": null,
   "metadata": {},
   "outputs": [],
   "source": [
    "deck=make_deck()"
   ]
  },
  {
   "cell_type": "markdown",
   "metadata": {},
   "source": [
    "Let's draw a random card and check if it's an ace. Keep running the cell if it's not an ace!"
   ]
  },
  {
   "cell_type": "code",
   "execution_count": null,
   "metadata": {},
   "outputs": [],
   "source": [
    "card=draw_card(deck)\n",
    "if card[0]=='A':\n",
    "    print(\"Wow, it's an Ace! Unbelievable!!\")"
   ]
  },
  {
   "cell_type": "markdown",
   "metadata": {},
   "source": [
    "How many times did you have to run the code cell until you got an ace?\n",
    "\n",
    "Remember, `draw_card()` is removing cards every time you run it! How many cards are left?"
   ]
  },
  {
   "cell_type": "code",
   "execution_count": null,
   "metadata": {},
   "outputs": [],
   "source": [
    "len(deck)"
   ]
  },
  {
   "cell_type": "markdown",
   "metadata": {},
   "source": [
    "What is the simple probability of drawing an ace?\n"
   ]
  },
  {
   "cell_type": "code",
   "execution_count": null,
   "metadata": {},
   "outputs": [],
   "source": [
    "# your calculation here"
   ]
  },
  {
   "cell_type": "markdown",
   "metadata": {},
   "source": [
    "### Last experiments"
   ]
  },
  {
   "cell_type": "markdown",
   "metadata": {},
   "source": [
    "Now, write some code to set up an experiment: shuffle the deck and pick the top card. Do this 100 times. Calculate the experimental probability of drawing an ace!\n",
    "#### (hint, just use `deck[0]`, not our `draw_card()` function, since we want to keep the card in the deck!)"
   ]
  },
  {
   "cell_type": "code",
   "execution_count": null,
   "metadata": {},
   "outputs": [],
   "source": [
    "# start by defining an empty holder for the draws\n",
    "\n",
    "# next, use a for loop to repeat the shuffle/draw process 100 times\n",
    "\n",
    "    #inside the for loop, shuffle the deck\n",
    "    #then pick the top card, deck[0]\n",
    "    #and append it onto the empty list\n",
    "\n",
    "#finally, count the number of A cards\n",
    "\n",
    "#and divide that by how many total draws (100)\n"
   ]
  },
  {
   "cell_type": "markdown",
   "metadata": {},
   "source": [
    "And here's my final challenge to you! \n",
    "\n",
    "#### (And it's pretty dang challenging, I'd say)\n",
    "\n",
    "Write some code that:\n",
    "1. Resets the deck\n",
    "2. Draws 5 cards at random, and puts them into a \"hand\" (just a list, in this case)\n",
    "3. Records this hand of cards\n",
    "4. Repeats items 1, 2 and 3 100 times.\n",
    "5. Caculates the experimental probability of drawing at least one ace when you draw 5 cards at random "
   ]
  },
  {
   "cell_type": "code",
   "execution_count": null,
   "metadata": {},
   "outputs": [],
   "source": [
    "# your code here"
   ]
  },
  {
   "cell_type": "markdown",
   "metadata": {},
   "source": [
    "Ok, folks, I hope you found this primer on probability and statistics with python an interesting challenge! I am excited to see what you all come up with. Please reach out with any and all questions, or just to get a hint!\n"
   ]
  },
  {
   "cell_type": "markdown",
   "metadata": {},
   "source": [
    "Written by John Platter, 2020"
   ]
  }
 ],
 "metadata": {
  "kernelspec": {
   "display_name": "Python 3 (ipykernel)",
   "language": "python",
   "name": "python3"
  },
  "language_info": {
   "codemirror_mode": {
    "name": "ipython",
    "version": 3
   },
   "file_extension": ".py",
   "mimetype": "text/x-python",
   "name": "python",
   "nbconvert_exporter": "python",
   "pygments_lexer": "ipython3",
   "version": "3.9.5"
  }
 },
 "nbformat": 4,
 "nbformat_minor": 4
}
