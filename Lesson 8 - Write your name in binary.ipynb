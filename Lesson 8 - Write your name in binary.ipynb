{
 "cells": [
  {
   "cell_type": "markdown",
   "id": "b6bb3928",
   "metadata": {},
   "source": [
    "## Using ASCII\n",
    "Check out the following cells and try to understand how the new usage of \"byte strings\" (a string with a leading b) relates to ASCII characters. Useful functions here include `chr`, `ord`, and `bytes`."
   ]
  },
  {
   "cell_type": "code",
   "execution_count": null,
   "id": "480bae01",
   "metadata": {},
   "outputs": [],
   "source": [
    "name=bytes('John', encoding='ascii')\n",
    "print(name)"
   ]
  },
  {
   "cell_type": "code",
   "execution_count": null,
   "id": "81fba839",
   "metadata": {},
   "outputs": [],
   "source": [
    "name1=b'John'\n",
    "name==name1"
   ]
  },
  {
   "cell_type": "code",
   "execution_count": null,
   "id": "e2a23df9",
   "metadata": {},
   "outputs": [],
   "source": [
    "name[0]"
   ]
  },
  {
   "cell_type": "code",
   "execution_count": null,
   "id": "61e1cf5f",
   "metadata": {},
   "outputs": [],
   "source": [
    "b'J'[0]"
   ]
  },
  {
   "cell_type": "code",
   "execution_count": null,
   "id": "53641546",
   "metadata": {},
   "outputs": [],
   "source": [
    "b'o'[0]"
   ]
  },
  {
   "cell_type": "code",
   "execution_count": null,
   "id": "23f11703",
   "metadata": {},
   "outputs": [],
   "source": [
    "chr(111)"
   ]
  },
  {
   "cell_type": "code",
   "execution_count": null,
   "id": "82af80f2",
   "metadata": {},
   "outputs": [],
   "source": [
    "ord('o')"
   ]
  },
  {
   "cell_type": "code",
   "execution_count": null,
   "id": "f9e1fb59",
   "metadata": {},
   "outputs": [],
   "source": [
    "for thing in name:\n",
    "    print(thing)"
   ]
  },
  {
   "cell_type": "code",
   "execution_count": null,
   "id": "22719c24",
   "metadata": {},
   "outputs": [],
   "source": [
    "hex(74)"
   ]
  },
  {
   "cell_type": "code",
   "execution_count": null,
   "id": "3ce411e0",
   "metadata": {},
   "outputs": [],
   "source": [
    "int('4a', base=16)"
   ]
  },
  {
   "cell_type": "code",
   "execution_count": null,
   "id": "550b70bf",
   "metadata": {},
   "outputs": [],
   "source": [
    "bin(74)"
   ]
  },
  {
   "cell_type": "code",
   "execution_count": null,
   "id": "433c8d47",
   "metadata": {},
   "outputs": [],
   "source": [
    "int('1001010', base=2)"
   ]
  },
  {
   "cell_type": "code",
   "execution_count": null,
   "id": "25b44471",
   "metadata": {},
   "outputs": [],
   "source": [
    "for val in name:\n",
    "    print(val, hex(val), bin(val))"
   ]
  },
  {
   "cell_type": "code",
   "execution_count": null,
   "id": "47981d4f",
   "metadata": {},
   "outputs": [],
   "source": [
    "('0'+bin(name[0])[2:] #leading zero makes each value exactly 1 byte long (8 bits)!\n",
    "+'0'+bin(name[1])[2:]\n",
    "+'0'+bin(name[2])[2:]\n",
    "+'0'+bin(name[3])[2:]) "
   ]
  },
  {
   "cell_type": "markdown",
   "id": "61b7285a",
   "metadata": {},
   "source": [
    "https://www.binaryhexconverter.com/binary-to-ascii-text-converter"
   ]
  }
 ],
 "metadata": {
  "kernelspec": {
   "display_name": "Python 3 (ipykernel)",
   "language": "python",
   "name": "python3"
  },
  "language_info": {
   "codemirror_mode": {
    "name": "ipython",
    "version": 3
   },
   "file_extension": ".py",
   "mimetype": "text/x-python",
   "name": "python",
   "nbconvert_exporter": "python",
   "pygments_lexer": "ipython3",
   "version": "3.9.5"
  }
 },
 "nbformat": 4,
 "nbformat_minor": 5
}
