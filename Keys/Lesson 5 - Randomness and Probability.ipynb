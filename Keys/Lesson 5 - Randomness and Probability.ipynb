{
 "cells": [
  {
   "cell_type": "code",
   "execution_count": 15,
   "metadata": {},
   "outputs": [],
   "source": [
    "# Randomness and Probability"
   ]
  },
  {
   "cell_type": "markdown",
   "metadata": {},
   "source": [
    "In this week's lesson, we're going to explore the different functions and methods python has to learn about probabilities. We'll even perform some virtual experiements to illustrate some important probability concepts. \n",
    "\n",
    "As a quick recap: probability is a math term that refers to how **likely** something is to happen. Probabilities can be expressed as a fraction or decimal between 0 and 1, where **0** is the probability of something that *can't ever happen*, **1** is the probability of something that will *always happen no matter what*, and an outcome with probability **0.5** or **$\\frac{1}{2}$** will likely happen half the time. (2 out of 4 tries, 10 out of 20 tries, 50 out of 100 tries, and so on)\n",
    "\n",
    "\n",
    "The math concept of probability is completely tied to the idea of randomness. When situations are random, there's no certain way to predict how they will turn out. We can only make guesses that some outcomes are likely and others are unlikely. A standard example is a coin flip - we can be pretty certain that \"heads\" will be face up about $\\frac{1}{2}$ of the time, so the probability is **0.5**. However, every time you wake up, you are on planet Earth, so the likelyhood that you are on Earth when you wake up in the morning is virtually **1**. (in the year 2020 at least) \n",
    "\n",
    "I'm sure you can think of a fun example for an outcome that has a **0** probability...\n",
    "\n"
   ]
  },
  {
   "cell_type": "markdown",
   "metadata": {},
   "source": [
    "## Coding a bag full of marbles"
   ]
  },
  {
   "cell_type": "markdown",
   "metadata": {},
   "source": [
    "Well, let's get to it. First we'll import the `random` module."
   ]
  },
  {
   "cell_type": "code",
   "execution_count": 16,
   "metadata": {},
   "outputs": [],
   "source": [
    "import random"
   ]
  },
  {
   "cell_type": "markdown",
   "metadata": {},
   "source": [
    "Next, we'll fill a bag with a few marbles. \n",
    "#### More specifically, we're assigning the variable `bag` a list with 8 elements that are the string `yellow` and 8 elements that are the string `blue`. "
   ]
  },
  {
   "cell_type": "code",
   "execution_count": 17,
   "metadata": {},
   "outputs": [],
   "source": [
    "bag=['yellow','yellow','yellow','yellow',\n",
    "    'yellow','yellow','yellow','yellow',\n",
    "    'blue','blue','blue','blue',\n",
    "    'blue','blue','blue','blue']"
   ]
  },
  {
   "cell_type": "code",
   "execution_count": 18,
   "metadata": {},
   "outputs": [
    {
     "name": "stdout",
     "output_type": "stream",
     "text": [
      "['yellow', 'yellow', 'yellow', 'yellow', 'yellow', 'yellow', 'yellow', 'yellow', 'blue', 'blue', 'blue', 'blue', 'blue', 'blue', 'blue', 'blue']\n"
     ]
    }
   ],
   "source": [
    "print(bag) #take a look in the bag"
   ]
  },
  {
   "cell_type": "markdown",
   "metadata": {},
   "source": [
    "It was a bit painful typing that by hand, so here's a quicker way of making that list. We can multiply lists to copy them a certain number of times, and we can add lists to stick the lists together. Pretty logical, I think.\n",
    "\n",
    "#### Now `bag` should have 10 of each color"
   ]
  },
  {
   "cell_type": "code",
   "execution_count": 19,
   "metadata": {},
   "outputs": [
    {
     "name": "stdout",
     "output_type": "stream",
     "text": [
      "['yellow', 'yellow', 'yellow', 'yellow', 'yellow', 'yellow', 'yellow', 'yellow', 'yellow', 'yellow', 'blue', 'blue', 'blue', 'blue', 'blue', 'blue', 'blue', 'blue', 'blue', 'blue']\n"
     ]
    }
   ],
   "source": [
    "bag=['yellow']*10+['blue']*10\n",
    "print(bag)"
   ]
  },
  {
   "cell_type": "markdown",
   "metadata": {},
   "source": [
    "Here's how we can take a list and count the number of repeated elements:"
   ]
  },
  {
   "cell_type": "code",
   "execution_count": 20,
   "metadata": {},
   "outputs": [
    {
     "data": {
      "text/plain": [
       "10"
      ]
     },
     "execution_count": 20,
     "metadata": {},
     "output_type": "execute_result"
    }
   ],
   "source": [
    "bag.count('blue')"
   ]
  },
  {
   "cell_type": "code",
   "execution_count": 21,
   "metadata": {},
   "outputs": [
    {
     "data": {
      "text/plain": [
       "10"
      ]
     },
     "execution_count": 21,
     "metadata": {},
     "output_type": "execute_result"
    }
   ],
   "source": [
    "bag.count('yellow')"
   ]
  },
  {
   "cell_type": "markdown",
   "metadata": {},
   "source": [
    "And here's how we grab the entry at index 0 (the \"first\" entry):"
   ]
  },
  {
   "cell_type": "code",
   "execution_count": 22,
   "metadata": {},
   "outputs": [
    {
     "data": {
      "text/plain": [
       "'yellow'"
      ]
     },
     "execution_count": 22,
     "metadata": {},
     "output_type": "execute_result"
    }
   ],
   "source": [
    "bag[0]"
   ]
  },
  {
   "cell_type": "markdown",
   "metadata": {},
   "source": [
    "and the element at index 1: \n",
    "#### (the, erm... \"second\" entry?? These are bad words for this purpose):"
   ]
  },
  {
   "cell_type": "code",
   "execution_count": 23,
   "metadata": {},
   "outputs": [
    {
     "data": {
      "text/plain": [
       "'yellow'"
      ]
     },
     "execution_count": 23,
     "metadata": {},
     "output_type": "execute_result"
    }
   ],
   "source": [
    "bag[1]"
   ]
  },
  {
   "cell_type": "markdown",
   "metadata": {},
   "source": [
    "and so on:"
   ]
  },
  {
   "cell_type": "code",
   "execution_count": 24,
   "metadata": {},
   "outputs": [
    {
     "data": {
      "text/plain": [
       "'yellow'"
      ]
     },
     "execution_count": 24,
     "metadata": {},
     "output_type": "execute_result"
    }
   ],
   "source": [
    "bag[3]"
   ]
  },
  {
   "cell_type": "code",
   "execution_count": 25,
   "metadata": {},
   "outputs": [
    {
     "data": {
      "text/plain": [
       "'yellow'"
      ]
     },
     "execution_count": 25,
     "metadata": {},
     "output_type": "execute_result"
    }
   ],
   "source": [
    "bag[9]"
   ]
  },
  {
   "cell_type": "code",
   "execution_count": 26,
   "metadata": {},
   "outputs": [
    {
     "data": {
      "text/plain": [
       "'blue'"
      ]
     },
     "execution_count": 26,
     "metadata": {},
     "output_type": "execute_result"
    }
   ],
   "source": [
    "bag[10]"
   ]
  },
  {
   "cell_type": "code",
   "execution_count": 27,
   "metadata": {},
   "outputs": [
    {
     "data": {
      "text/plain": [
       "'blue'"
      ]
     },
     "execution_count": 27,
     "metadata": {},
     "output_type": "execute_result"
    }
   ],
   "source": [
    "bag[19]"
   ]
  },
  {
   "cell_type": "code",
   "execution_count": 28,
   "metadata": {},
   "outputs": [
    {
     "ename": "IndexError",
     "evalue": "list index out of range",
     "output_type": "error",
     "traceback": [
      "\u001b[1;31m---------------------------------------------------------------------------\u001b[0m",
      "\u001b[1;31mIndexError\u001b[0m                                Traceback (most recent call last)",
      "\u001b[1;32m~\\AppData\\Local\\Temp/ipykernel_2220/2377868287.py\u001b[0m in \u001b[0;36m<module>\u001b[1;34m\u001b[0m\n\u001b[1;32m----> 1\u001b[1;33m \u001b[0mbag\u001b[0m\u001b[1;33m[\u001b[0m\u001b[1;36m20\u001b[0m\u001b[1;33m]\u001b[0m\u001b[1;33m\u001b[0m\u001b[1;33m\u001b[0m\u001b[0m\n\u001b[0m",
      "\u001b[1;31mIndexError\u001b[0m: list index out of range"
     ]
    }
   ],
   "source": [
    "bag[20]"
   ]
  },
  {
   "cell_type": "markdown",
   "metadata": {},
   "source": [
    "Uh-oh, why did that happen? Please explain why `bag[20]` gives `list index out of range`...\n",
    "\n",
    "[Because you start from counting from 0 so basically there is 19 colors.]"
   ]
  },
  {
   "cell_type": "markdown",
   "metadata": {},
   "source": [
    "Now lets use the `random` module. `random.shuffle( )` takes a list and changes it so that the elements are all in randomly different places:"
   ]
  },
  {
   "cell_type": "code",
   "execution_count": 29,
   "metadata": {},
   "outputs": [
    {
     "name": "stdout",
     "output_type": "stream",
     "text": [
      "['yellow', 'blue', 'yellow', 'blue', 'yellow', 'yellow', 'yellow', 'yellow', 'blue', 'yellow', 'yellow', 'blue', 'yellow', 'blue', 'blue', 'blue', 'blue', 'blue', 'blue', 'yellow']\n"
     ]
    }
   ],
   "source": [
    "random.shuffle(bag)\n",
    "print(bag)"
   ]
  },
  {
   "cell_type": "markdown",
   "metadata": {},
   "source": [
    "As you repeat the above code cell, the following cell will print out whatever is at the beginning of `bag` after it is randomly shuffled. What is the probability that the following cell prints `blue`?\n",
    "\n",
    "[50/50]"
   ]
  },
  {
   "cell_type": "code",
   "execution_count": 30,
   "metadata": {},
   "outputs": [
    {
     "name": "stdout",
     "output_type": "stream",
     "text": [
      "yellow\n"
     ]
    }
   ],
   "source": [
    "print(bag[0])"
   ]
  },
  {
   "cell_type": "markdown",
   "metadata": {},
   "source": [
    "The following code is similar to an experiment were your friend shakes up a bag of marbles (10 yellow and 10 blue), asks you to draw one and then record the color 20 different times, making sure you put the marble back in the bag each time:"
   ]
  },
  {
   "cell_type": "code",
   "execution_count": 31,
   "metadata": {},
   "outputs": [
    {
     "name": "stdout",
     "output_type": "stream",
     "text": [
      "yellow\n",
      "yellow\n",
      "blue\n",
      "yellow\n",
      "yellow\n",
      "blue\n",
      "blue\n",
      "blue\n",
      "blue\n",
      "blue\n",
      "blue\n",
      "blue\n",
      "yellow\n",
      "blue\n",
      "yellow\n",
      "yellow\n",
      "blue\n",
      "yellow\n",
      "blue\n",
      "yellow\n"
     ]
    }
   ],
   "source": [
    "for i in range(20):\n",
    "    random.shuffle(bag) #these two lines happen 20 times\n",
    "    print(bag[0])       #"
   ]
  },
  {
   "cell_type": "markdown",
   "metadata": {},
   "source": [
    "What is the ratio of blue marbles drawn to total marbles drawn? Should this always be equal to $\\frac{1}{2}$? If you repeat the experiment, is the ratio the same? Explain:\n",
    "\n",
    "[The amount is 11 blue to 9 yellow so the ratio is 9/11]"
   ]
  },
  {
   "cell_type": "markdown",
   "metadata": {},
   "source": [
    "## Getting more efficient"
   ]
  },
  {
   "cell_type": "markdown",
   "metadata": {},
   "source": [
    "Counting everything by hand is good to help guide your understanding, but it's also a little tedious. In this next section, we'll get python to do all the dirty work for us. \n",
    "\n",
    "Let's imagine an empty bag called `empty`. We'll assign it the empty list `[]`. We can then \"fill\" it with our data by using the `append( )` method, as demonstrated by the following three cells:"
   ]
  },
  {
   "cell_type": "code",
   "execution_count": 32,
   "metadata": {},
   "outputs": [
    {
     "data": {
      "text/plain": [
       "[]"
      ]
     },
     "execution_count": 32,
     "metadata": {},
     "output_type": "execute_result"
    }
   ],
   "source": [
    "empty=[]\n",
    "empty"
   ]
  },
  {
   "cell_type": "code",
   "execution_count": 33,
   "metadata": {},
   "outputs": [
    {
     "data": {
      "text/plain": [
       "['green']"
      ]
     },
     "execution_count": 33,
     "metadata": {},
     "output_type": "execute_result"
    }
   ],
   "source": [
    "empty.append('green')\n",
    "empty"
   ]
  },
  {
   "cell_type": "code",
   "execution_count": 34,
   "metadata": {},
   "outputs": [
    {
     "data": {
      "text/plain": [
       "['green', 'red']"
      ]
     },
     "execution_count": 34,
     "metadata": {},
     "output_type": "execute_result"
    }
   ],
   "source": [
    "empty.append('red')\n",
    "empty"
   ]
  },
  {
   "cell_type": "markdown",
   "metadata": {},
   "source": [
    "#### (`append` always puts its input at the end of the list it is called with.)"
   ]
  },
  {
   "cell_type": "markdown",
   "metadata": {},
   "source": [
    "So, with this in mind, let's repeat our experiment, and collect the data about our random draws in `empty` (no, it won't be empty after the for loop!) "
   ]
  },
  {
   "cell_type": "code",
   "execution_count": 35,
   "metadata": {},
   "outputs": [
    {
     "name": "stdout",
     "output_type": "stream",
     "text": [
      "['yellow', 'blue', 'blue', 'yellow', 'blue', 'blue', 'blue', 'blue', 'yellow', 'yellow', 'yellow', 'blue', 'blue', 'yellow', 'yellow', 'blue', 'yellow', 'blue', 'yellow', 'yellow']\n"
     ]
    }
   ],
   "source": [
    "empty=[]\n",
    "for i in range(20):\n",
    "    random.shuffle(bag) \n",
    "    empty.append(bag[0])\n",
    "print(empty) #this happens after everything indented above finishes"
   ]
  },
  {
   "cell_type": "markdown",
   "metadata": {},
   "source": [
    "Now, let's count the yellows and blues and store these in `results`"
   ]
  },
  {
   "cell_type": "code",
   "execution_count": 36,
   "metadata": {},
   "outputs": [
    {
     "data": {
      "text/plain": [
       "[10, 10]"
      ]
     },
     "execution_count": 36,
     "metadata": {},
     "output_type": "execute_result"
    }
   ],
   "source": [
    "results=[empty.count('yellow'), empty.count('blue')]\n",
    "results"
   ]
  },
  {
   "cell_type": "markdown",
   "metadata": {},
   "source": [
    "And we can calculate the observed ratios like so"
   ]
  },
  {
   "cell_type": "code",
   "execution_count": 37,
   "metadata": {},
   "outputs": [
    {
     "data": {
      "text/plain": [
       "0.5"
      ]
     },
     "execution_count": 37,
     "metadata": {},
     "output_type": "execute_result"
    }
   ],
   "source": [
    "results[0]/20 #number of yellows to total trials"
   ]
  },
  {
   "cell_type": "code",
   "execution_count": 38,
   "metadata": {},
   "outputs": [
    {
     "data": {
      "text/plain": [
       "0.5"
      ]
     },
     "execution_count": 38,
     "metadata": {},
     "output_type": "execute_result"
    }
   ],
   "source": [
    "results[1]/20 #number of blues to total trials"
   ]
  },
  {
   "cell_type": "markdown",
   "metadata": {},
   "source": [
    "The great thing about python doing this work is that now we can ask it to do experiments that would take humans a very long time to do.\n",
    "#### This one is a similar experiment where 1000 draws are recorded before the ratios are calculated "
   ]
  },
  {
   "cell_type": "code",
   "execution_count": 39,
   "metadata": {},
   "outputs": [],
   "source": [
    "empty=[]\n",
    "for i in range(1000):\n",
    "    random.shuffle(bag)\n",
    "    empty.append(bag[0])\n",
    "results=[empty.count('yellow'), empty.count('blue')]"
   ]
  },
  {
   "cell_type": "code",
   "execution_count": 40,
   "metadata": {},
   "outputs": [
    {
     "data": {
      "text/plain": [
       "0.493"
      ]
     },
     "execution_count": 40,
     "metadata": {},
     "output_type": "execute_result"
    }
   ],
   "source": [
    "results[0]/1000"
   ]
  },
  {
   "cell_type": "code",
   "execution_count": 41,
   "metadata": {},
   "outputs": [
    {
     "data": {
      "text/plain": [
       "0.507"
      ]
     },
     "execution_count": 41,
     "metadata": {},
     "output_type": "execute_result"
    }
   ],
   "source": [
    "results[1]/1000"
   ]
  },
  {
   "cell_type": "code",
   "execution_count": 42,
   "metadata": {},
   "outputs": [
    {
     "data": {
      "text/plain": [
       "['blue',\n",
       " 'blue',\n",
       " 'yellow',\n",
       " 'blue',\n",
       " 'yellow',\n",
       " 'blue',\n",
       " 'yellow',\n",
       " 'blue',\n",
       " 'blue',\n",
       " 'blue',\n",
       " 'blue',\n",
       " 'yellow',\n",
       " 'yellow',\n",
       " 'blue',\n",
       " 'yellow',\n",
       " 'yellow',\n",
       " 'yellow',\n",
       " 'yellow',\n",
       " 'yellow',\n",
       " 'yellow',\n",
       " 'yellow',\n",
       " 'yellow',\n",
       " 'blue',\n",
       " 'yellow',\n",
       " 'yellow',\n",
       " 'blue',\n",
       " 'yellow',\n",
       " 'blue',\n",
       " 'blue',\n",
       " 'yellow',\n",
       " 'blue',\n",
       " 'yellow',\n",
       " 'blue',\n",
       " 'yellow',\n",
       " 'blue',\n",
       " 'blue',\n",
       " 'yellow',\n",
       " 'blue',\n",
       " 'blue',\n",
       " 'blue',\n",
       " 'blue',\n",
       " 'yellow',\n",
       " 'blue',\n",
       " 'blue',\n",
       " 'blue',\n",
       " 'blue',\n",
       " 'blue',\n",
       " 'blue',\n",
       " 'yellow',\n",
       " 'yellow',\n",
       " 'yellow',\n",
       " 'blue',\n",
       " 'blue',\n",
       " 'yellow',\n",
       " 'blue',\n",
       " 'yellow',\n",
       " 'blue',\n",
       " 'blue',\n",
       " 'blue',\n",
       " 'yellow',\n",
       " 'yellow',\n",
       " 'blue',\n",
       " 'yellow',\n",
       " 'blue',\n",
       " 'blue',\n",
       " 'yellow',\n",
       " 'blue',\n",
       " 'blue',\n",
       " 'blue',\n",
       " 'blue',\n",
       " 'yellow',\n",
       " 'yellow',\n",
       " 'yellow',\n",
       " 'blue',\n",
       " 'blue',\n",
       " 'blue',\n",
       " 'blue',\n",
       " 'yellow',\n",
       " 'blue',\n",
       " 'yellow',\n",
       " 'yellow',\n",
       " 'blue',\n",
       " 'yellow',\n",
       " 'blue',\n",
       " 'blue',\n",
       " 'yellow',\n",
       " 'blue',\n",
       " 'yellow',\n",
       " 'blue',\n",
       " 'yellow',\n",
       " 'blue',\n",
       " 'blue',\n",
       " 'blue',\n",
       " 'yellow',\n",
       " 'blue',\n",
       " 'blue',\n",
       " 'blue',\n",
       " 'blue',\n",
       " 'blue',\n",
       " 'blue',\n",
       " 'yellow',\n",
       " 'yellow',\n",
       " 'yellow',\n",
       " 'blue',\n",
       " 'yellow',\n",
       " 'blue',\n",
       " 'yellow',\n",
       " 'yellow',\n",
       " 'yellow',\n",
       " 'yellow',\n",
       " 'yellow',\n",
       " 'blue',\n",
       " 'yellow',\n",
       " 'blue',\n",
       " 'blue',\n",
       " 'yellow',\n",
       " 'blue',\n",
       " 'blue',\n",
       " 'blue',\n",
       " 'yellow',\n",
       " 'yellow',\n",
       " 'blue',\n",
       " 'yellow',\n",
       " 'yellow',\n",
       " 'yellow',\n",
       " 'blue',\n",
       " 'yellow',\n",
       " 'yellow',\n",
       " 'yellow',\n",
       " 'yellow',\n",
       " 'blue',\n",
       " 'yellow',\n",
       " 'blue',\n",
       " 'yellow',\n",
       " 'yellow',\n",
       " 'blue',\n",
       " 'yellow',\n",
       " 'yellow',\n",
       " 'blue',\n",
       " 'blue',\n",
       " 'yellow',\n",
       " 'yellow',\n",
       " 'blue',\n",
       " 'yellow',\n",
       " 'blue',\n",
       " 'yellow',\n",
       " 'blue',\n",
       " 'blue',\n",
       " 'blue',\n",
       " 'blue',\n",
       " 'blue',\n",
       " 'blue',\n",
       " 'yellow',\n",
       " 'blue',\n",
       " 'blue',\n",
       " 'blue',\n",
       " 'yellow',\n",
       " 'yellow',\n",
       " 'blue',\n",
       " 'yellow',\n",
       " 'blue',\n",
       " 'yellow',\n",
       " 'yellow',\n",
       " 'yellow',\n",
       " 'blue',\n",
       " 'yellow',\n",
       " 'blue',\n",
       " 'yellow',\n",
       " 'yellow',\n",
       " 'yellow',\n",
       " 'blue',\n",
       " 'blue',\n",
       " 'yellow',\n",
       " 'yellow',\n",
       " 'yellow',\n",
       " 'yellow',\n",
       " 'blue',\n",
       " 'blue',\n",
       " 'blue',\n",
       " 'yellow',\n",
       " 'blue',\n",
       " 'blue',\n",
       " 'yellow',\n",
       " 'yellow',\n",
       " 'blue',\n",
       " 'yellow',\n",
       " 'yellow',\n",
       " 'yellow',\n",
       " 'yellow',\n",
       " 'yellow',\n",
       " 'blue',\n",
       " 'blue',\n",
       " 'yellow',\n",
       " 'blue',\n",
       " 'blue',\n",
       " 'blue',\n",
       " 'yellow',\n",
       " 'yellow',\n",
       " 'yellow',\n",
       " 'blue',\n",
       " 'blue',\n",
       " 'blue',\n",
       " 'blue',\n",
       " 'blue',\n",
       " 'yellow',\n",
       " 'blue',\n",
       " 'yellow',\n",
       " 'yellow',\n",
       " 'yellow',\n",
       " 'blue',\n",
       " 'blue',\n",
       " 'yellow',\n",
       " 'blue',\n",
       " 'yellow',\n",
       " 'yellow',\n",
       " 'yellow',\n",
       " 'yellow',\n",
       " 'yellow',\n",
       " 'yellow',\n",
       " 'yellow',\n",
       " 'blue',\n",
       " 'yellow',\n",
       " 'yellow',\n",
       " 'yellow',\n",
       " 'yellow',\n",
       " 'blue',\n",
       " 'blue',\n",
       " 'blue',\n",
       " 'yellow',\n",
       " 'yellow',\n",
       " 'yellow',\n",
       " 'blue',\n",
       " 'blue',\n",
       " 'yellow',\n",
       " 'blue',\n",
       " 'yellow',\n",
       " 'blue',\n",
       " 'yellow',\n",
       " 'yellow',\n",
       " 'yellow',\n",
       " 'blue',\n",
       " 'blue',\n",
       " 'blue',\n",
       " 'blue',\n",
       " 'yellow',\n",
       " 'yellow',\n",
       " 'yellow',\n",
       " 'yellow',\n",
       " 'blue',\n",
       " 'yellow',\n",
       " 'yellow',\n",
       " 'yellow',\n",
       " 'blue',\n",
       " 'yellow',\n",
       " 'blue',\n",
       " 'blue',\n",
       " 'yellow',\n",
       " 'blue',\n",
       " 'yellow',\n",
       " 'yellow',\n",
       " 'blue',\n",
       " 'blue',\n",
       " 'blue',\n",
       " 'blue',\n",
       " 'blue',\n",
       " 'yellow',\n",
       " 'yellow',\n",
       " 'blue',\n",
       " 'blue',\n",
       " 'blue',\n",
       " 'blue',\n",
       " 'yellow',\n",
       " 'blue',\n",
       " 'blue',\n",
       " 'blue',\n",
       " 'blue',\n",
       " 'yellow',\n",
       " 'yellow',\n",
       " 'blue',\n",
       " 'blue',\n",
       " 'yellow',\n",
       " 'yellow',\n",
       " 'yellow',\n",
       " 'yellow',\n",
       " 'blue',\n",
       " 'yellow',\n",
       " 'yellow',\n",
       " 'yellow',\n",
       " 'yellow',\n",
       " 'blue',\n",
       " 'blue',\n",
       " 'blue',\n",
       " 'blue',\n",
       " 'blue',\n",
       " 'blue',\n",
       " 'blue',\n",
       " 'blue',\n",
       " 'blue',\n",
       " 'blue',\n",
       " 'blue',\n",
       " 'blue',\n",
       " 'blue',\n",
       " 'blue',\n",
       " 'yellow',\n",
       " 'yellow',\n",
       " 'yellow',\n",
       " 'yellow',\n",
       " 'yellow',\n",
       " 'blue',\n",
       " 'yellow',\n",
       " 'yellow',\n",
       " 'yellow',\n",
       " 'yellow',\n",
       " 'blue',\n",
       " 'blue',\n",
       " 'blue',\n",
       " 'yellow',\n",
       " 'blue',\n",
       " 'yellow',\n",
       " 'yellow',\n",
       " 'blue',\n",
       " 'blue',\n",
       " 'blue',\n",
       " 'blue',\n",
       " 'blue',\n",
       " 'yellow',\n",
       " 'yellow',\n",
       " 'blue',\n",
       " 'yellow',\n",
       " 'yellow',\n",
       " 'yellow',\n",
       " 'blue',\n",
       " 'yellow',\n",
       " 'blue',\n",
       " 'blue',\n",
       " 'yellow',\n",
       " 'blue',\n",
       " 'yellow',\n",
       " 'yellow',\n",
       " 'blue',\n",
       " 'blue',\n",
       " 'blue',\n",
       " 'blue',\n",
       " 'blue',\n",
       " 'yellow',\n",
       " 'blue',\n",
       " 'blue',\n",
       " 'yellow',\n",
       " 'yellow',\n",
       " 'yellow',\n",
       " 'yellow',\n",
       " 'blue',\n",
       " 'blue',\n",
       " 'blue',\n",
       " 'blue',\n",
       " 'yellow',\n",
       " 'yellow',\n",
       " 'blue',\n",
       " 'yellow',\n",
       " 'yellow',\n",
       " 'yellow',\n",
       " 'blue',\n",
       " 'blue',\n",
       " 'blue',\n",
       " 'blue',\n",
       " 'blue',\n",
       " 'yellow',\n",
       " 'yellow',\n",
       " 'yellow',\n",
       " 'blue',\n",
       " 'blue',\n",
       " 'blue',\n",
       " 'yellow',\n",
       " 'blue',\n",
       " 'blue',\n",
       " 'blue',\n",
       " 'yellow',\n",
       " 'blue',\n",
       " 'yellow',\n",
       " 'blue',\n",
       " 'yellow',\n",
       " 'yellow',\n",
       " 'blue',\n",
       " 'blue',\n",
       " 'blue',\n",
       " 'yellow',\n",
       " 'yellow',\n",
       " 'blue',\n",
       " 'yellow',\n",
       " 'yellow',\n",
       " 'yellow',\n",
       " 'yellow',\n",
       " 'yellow',\n",
       " 'yellow',\n",
       " 'blue',\n",
       " 'yellow',\n",
       " 'blue',\n",
       " 'blue',\n",
       " 'blue',\n",
       " 'blue',\n",
       " 'yellow',\n",
       " 'blue',\n",
       " 'yellow',\n",
       " 'blue',\n",
       " 'yellow',\n",
       " 'yellow',\n",
       " 'yellow',\n",
       " 'blue',\n",
       " 'yellow',\n",
       " 'blue',\n",
       " 'yellow',\n",
       " 'blue',\n",
       " 'yellow',\n",
       " 'yellow',\n",
       " 'yellow',\n",
       " 'blue',\n",
       " 'blue',\n",
       " 'blue',\n",
       " 'yellow',\n",
       " 'blue',\n",
       " 'blue',\n",
       " 'blue',\n",
       " 'yellow',\n",
       " 'yellow',\n",
       " 'yellow',\n",
       " 'yellow',\n",
       " 'yellow',\n",
       " 'blue',\n",
       " 'yellow',\n",
       " 'yellow',\n",
       " 'blue',\n",
       " 'yellow',\n",
       " 'yellow',\n",
       " 'yellow',\n",
       " 'blue',\n",
       " 'yellow',\n",
       " 'yellow',\n",
       " 'yellow',\n",
       " 'yellow',\n",
       " 'blue',\n",
       " 'yellow',\n",
       " 'blue',\n",
       " 'blue',\n",
       " 'blue',\n",
       " 'blue',\n",
       " 'yellow',\n",
       " 'blue',\n",
       " 'yellow',\n",
       " 'blue',\n",
       " 'blue',\n",
       " 'yellow',\n",
       " 'blue',\n",
       " 'yellow',\n",
       " 'blue',\n",
       " 'yellow',\n",
       " 'yellow',\n",
       " 'yellow',\n",
       " 'blue',\n",
       " 'yellow',\n",
       " 'yellow',\n",
       " 'blue',\n",
       " 'blue',\n",
       " 'blue',\n",
       " 'yellow',\n",
       " 'yellow',\n",
       " 'yellow',\n",
       " 'yellow',\n",
       " 'yellow',\n",
       " 'blue',\n",
       " 'yellow',\n",
       " 'yellow',\n",
       " 'blue',\n",
       " 'blue',\n",
       " 'yellow',\n",
       " 'yellow',\n",
       " 'yellow',\n",
       " 'yellow',\n",
       " 'yellow',\n",
       " 'blue',\n",
       " 'yellow',\n",
       " 'yellow',\n",
       " 'yellow',\n",
       " 'yellow',\n",
       " 'blue',\n",
       " 'blue',\n",
       " 'yellow',\n",
       " 'yellow',\n",
       " 'blue',\n",
       " 'yellow',\n",
       " 'yellow',\n",
       " 'blue',\n",
       " 'yellow',\n",
       " 'blue',\n",
       " 'yellow',\n",
       " 'yellow',\n",
       " 'blue',\n",
       " 'yellow',\n",
       " 'blue',\n",
       " 'blue',\n",
       " 'blue',\n",
       " 'yellow',\n",
       " 'yellow',\n",
       " 'yellow',\n",
       " 'yellow',\n",
       " 'blue',\n",
       " 'yellow',\n",
       " 'blue',\n",
       " 'blue',\n",
       " 'blue',\n",
       " 'blue',\n",
       " 'yellow',\n",
       " 'yellow',\n",
       " 'blue',\n",
       " 'yellow',\n",
       " 'yellow',\n",
       " 'blue',\n",
       " 'yellow',\n",
       " 'blue',\n",
       " 'blue',\n",
       " 'yellow',\n",
       " 'yellow',\n",
       " 'yellow',\n",
       " 'yellow',\n",
       " 'yellow',\n",
       " 'yellow',\n",
       " 'blue',\n",
       " 'yellow',\n",
       " 'blue',\n",
       " 'blue',\n",
       " 'blue',\n",
       " 'blue',\n",
       " 'yellow',\n",
       " 'blue',\n",
       " 'yellow',\n",
       " 'yellow',\n",
       " 'yellow',\n",
       " 'yellow',\n",
       " 'yellow',\n",
       " 'blue',\n",
       " 'yellow',\n",
       " 'blue',\n",
       " 'blue',\n",
       " 'yellow',\n",
       " 'yellow',\n",
       " 'yellow',\n",
       " 'yellow',\n",
       " 'yellow',\n",
       " 'blue',\n",
       " 'yellow',\n",
       " 'yellow',\n",
       " 'yellow',\n",
       " 'blue',\n",
       " 'yellow',\n",
       " 'yellow',\n",
       " 'blue',\n",
       " 'blue',\n",
       " 'blue',\n",
       " 'blue',\n",
       " 'yellow',\n",
       " 'blue',\n",
       " 'yellow',\n",
       " 'blue',\n",
       " 'blue',\n",
       " 'yellow',\n",
       " 'blue',\n",
       " 'blue',\n",
       " 'blue',\n",
       " 'blue',\n",
       " 'yellow',\n",
       " 'yellow',\n",
       " 'blue',\n",
       " 'yellow',\n",
       " 'yellow',\n",
       " 'blue',\n",
       " 'blue',\n",
       " 'blue',\n",
       " 'yellow',\n",
       " 'yellow',\n",
       " 'blue',\n",
       " 'yellow',\n",
       " 'blue',\n",
       " 'yellow',\n",
       " 'blue',\n",
       " 'blue',\n",
       " 'yellow',\n",
       " 'blue',\n",
       " 'blue',\n",
       " 'blue',\n",
       " 'yellow',\n",
       " 'blue',\n",
       " 'yellow',\n",
       " 'yellow',\n",
       " 'blue',\n",
       " 'blue',\n",
       " 'blue',\n",
       " 'yellow',\n",
       " 'blue',\n",
       " 'blue',\n",
       " 'yellow',\n",
       " 'yellow',\n",
       " 'yellow',\n",
       " 'yellow',\n",
       " 'yellow',\n",
       " 'yellow',\n",
       " 'yellow',\n",
       " 'yellow',\n",
       " 'yellow',\n",
       " 'blue',\n",
       " 'blue',\n",
       " 'yellow',\n",
       " 'blue',\n",
       " 'yellow',\n",
       " 'yellow',\n",
       " 'yellow',\n",
       " 'blue',\n",
       " 'yellow',\n",
       " 'blue',\n",
       " 'yellow',\n",
       " 'yellow',\n",
       " 'yellow',\n",
       " 'blue',\n",
       " 'yellow',\n",
       " 'yellow',\n",
       " 'blue',\n",
       " 'blue',\n",
       " 'blue',\n",
       " 'blue',\n",
       " 'yellow',\n",
       " 'yellow',\n",
       " 'blue',\n",
       " 'blue',\n",
       " 'blue',\n",
       " 'blue',\n",
       " 'blue',\n",
       " 'yellow',\n",
       " 'blue',\n",
       " 'yellow',\n",
       " 'blue',\n",
       " 'yellow',\n",
       " 'blue',\n",
       " 'yellow',\n",
       " 'blue',\n",
       " 'blue',\n",
       " 'yellow',\n",
       " 'blue',\n",
       " 'blue',\n",
       " 'yellow',\n",
       " 'blue',\n",
       " 'yellow',\n",
       " 'yellow',\n",
       " 'yellow',\n",
       " 'blue',\n",
       " 'blue',\n",
       " 'yellow',\n",
       " 'yellow',\n",
       " 'blue',\n",
       " 'yellow',\n",
       " 'blue',\n",
       " 'yellow',\n",
       " 'blue',\n",
       " 'blue',\n",
       " 'yellow',\n",
       " 'blue',\n",
       " 'blue',\n",
       " 'blue',\n",
       " 'yellow',\n",
       " 'blue',\n",
       " 'blue',\n",
       " 'yellow',\n",
       " 'blue',\n",
       " 'yellow',\n",
       " 'blue',\n",
       " 'yellow',\n",
       " 'yellow',\n",
       " 'yellow',\n",
       " 'yellow',\n",
       " 'yellow',\n",
       " 'blue',\n",
       " 'blue',\n",
       " 'yellow',\n",
       " 'yellow',\n",
       " 'yellow',\n",
       " 'blue',\n",
       " 'yellow',\n",
       " 'yellow',\n",
       " 'blue',\n",
       " 'blue',\n",
       " 'yellow',\n",
       " 'yellow',\n",
       " 'blue',\n",
       " 'yellow',\n",
       " 'yellow',\n",
       " 'blue',\n",
       " 'yellow',\n",
       " 'blue',\n",
       " 'blue',\n",
       " 'yellow',\n",
       " 'yellow',\n",
       " 'blue',\n",
       " 'yellow',\n",
       " 'blue',\n",
       " 'blue',\n",
       " 'blue',\n",
       " 'yellow',\n",
       " 'yellow',\n",
       " 'blue',\n",
       " 'yellow',\n",
       " 'yellow',\n",
       " 'blue',\n",
       " 'blue',\n",
       " 'yellow',\n",
       " 'blue',\n",
       " 'yellow',\n",
       " 'blue',\n",
       " 'blue',\n",
       " 'blue',\n",
       " 'blue',\n",
       " 'yellow',\n",
       " 'yellow',\n",
       " 'yellow',\n",
       " 'yellow',\n",
       " 'blue',\n",
       " 'blue',\n",
       " 'yellow',\n",
       " 'yellow',\n",
       " 'blue',\n",
       " 'yellow',\n",
       " 'yellow',\n",
       " 'yellow',\n",
       " 'blue',\n",
       " 'yellow',\n",
       " 'blue',\n",
       " 'blue',\n",
       " 'yellow',\n",
       " 'blue',\n",
       " 'yellow',\n",
       " 'blue',\n",
       " 'blue',\n",
       " 'blue',\n",
       " 'blue',\n",
       " 'blue',\n",
       " 'blue',\n",
       " 'blue',\n",
       " 'blue',\n",
       " 'blue',\n",
       " 'blue',\n",
       " 'blue',\n",
       " 'blue',\n",
       " 'blue',\n",
       " 'yellow',\n",
       " 'blue',\n",
       " 'yellow',\n",
       " 'blue',\n",
       " 'yellow',\n",
       " 'blue',\n",
       " 'yellow',\n",
       " 'blue',\n",
       " 'yellow',\n",
       " 'blue',\n",
       " 'blue',\n",
       " 'blue',\n",
       " 'yellow',\n",
       " 'yellow',\n",
       " 'blue',\n",
       " 'yellow',\n",
       " 'blue',\n",
       " 'yellow',\n",
       " 'yellow',\n",
       " 'blue',\n",
       " 'yellow',\n",
       " 'yellow',\n",
       " 'yellow',\n",
       " 'blue',\n",
       " 'blue',\n",
       " 'yellow',\n",
       " 'blue',\n",
       " 'yellow',\n",
       " 'yellow',\n",
       " 'yellow',\n",
       " 'yellow',\n",
       " 'blue',\n",
       " 'blue',\n",
       " 'blue',\n",
       " 'blue',\n",
       " 'yellow',\n",
       " 'yellow',\n",
       " 'blue',\n",
       " 'yellow',\n",
       " 'yellow',\n",
       " 'blue',\n",
       " 'blue',\n",
       " 'yellow',\n",
       " 'blue',\n",
       " 'yellow',\n",
       " 'blue',\n",
       " 'yellow',\n",
       " 'yellow',\n",
       " 'blue',\n",
       " 'yellow',\n",
       " 'blue',\n",
       " 'blue',\n",
       " 'blue',\n",
       " 'blue',\n",
       " 'yellow',\n",
       " 'blue',\n",
       " 'blue',\n",
       " 'yellow',\n",
       " 'blue',\n",
       " 'blue',\n",
       " 'blue',\n",
       " 'blue',\n",
       " 'yellow',\n",
       " 'yellow',\n",
       " 'blue',\n",
       " 'yellow',\n",
       " 'blue',\n",
       " 'blue',\n",
       " 'blue',\n",
       " 'blue',\n",
       " 'yellow',\n",
       " 'blue',\n",
       " 'yellow',\n",
       " 'blue',\n",
       " 'yellow',\n",
       " 'yellow',\n",
       " 'yellow',\n",
       " 'blue',\n",
       " 'yellow',\n",
       " 'blue',\n",
       " 'yellow',\n",
       " 'blue',\n",
       " 'yellow',\n",
       " 'yellow',\n",
       " 'yellow',\n",
       " 'yellow',\n",
       " 'blue',\n",
       " 'blue',\n",
       " 'yellow',\n",
       " 'blue',\n",
       " 'yellow',\n",
       " 'blue',\n",
       " 'blue',\n",
       " 'yellow',\n",
       " 'blue',\n",
       " 'blue',\n",
       " 'yellow',\n",
       " 'yellow',\n",
       " 'yellow',\n",
       " 'blue',\n",
       " 'blue',\n",
       " 'yellow',\n",
       " 'yellow',\n",
       " 'blue',\n",
       " 'blue',\n",
       " 'blue',\n",
       " 'yellow',\n",
       " 'blue',\n",
       " 'blue',\n",
       " 'blue',\n",
       " 'yellow',\n",
       " 'blue',\n",
       " 'blue',\n",
       " 'blue',\n",
       " 'yellow',\n",
       " 'yellow',\n",
       " 'yellow',\n",
       " 'blue',\n",
       " 'blue',\n",
       " 'blue',\n",
       " 'blue',\n",
       " 'yellow',\n",
       " 'blue',\n",
       " 'yellow',\n",
       " 'yellow',\n",
       " 'yellow',\n",
       " 'blue',\n",
       " 'yellow',\n",
       " 'yellow',\n",
       " 'yellow',\n",
       " 'blue',\n",
       " 'blue',\n",
       " 'yellow',\n",
       " 'blue',\n",
       " 'blue',\n",
       " 'yellow',\n",
       " 'yellow',\n",
       " 'blue',\n",
       " 'yellow',\n",
       " 'yellow',\n",
       " 'blue',\n",
       " 'yellow',\n",
       " 'yellow',\n",
       " 'yellow',\n",
       " 'blue',\n",
       " 'blue',\n",
       " 'blue',\n",
       " 'yellow',\n",
       " 'yellow',\n",
       " 'blue',\n",
       " 'blue',\n",
       " 'blue',\n",
       " 'yellow',\n",
       " 'yellow',\n",
       " 'yellow',\n",
       " 'blue',\n",
       " 'yellow',\n",
       " 'yellow',\n",
       " 'yellow',\n",
       " 'yellow',\n",
       " 'blue',\n",
       " 'blue',\n",
       " 'yellow',\n",
       " 'blue',\n",
       " 'blue',\n",
       " 'yellow',\n",
       " 'blue',\n",
       " 'yellow',\n",
       " 'blue',\n",
       " 'blue',\n",
       " 'yellow',\n",
       " 'blue',\n",
       " 'yellow',\n",
       " 'blue',\n",
       " 'blue',\n",
       " 'blue',\n",
       " 'yellow',\n",
       " 'blue',\n",
       " 'blue',\n",
       " 'yellow',\n",
       " 'yellow',\n",
       " 'yellow',\n",
       " 'yellow',\n",
       " 'yellow',\n",
       " 'blue',\n",
       " 'yellow',\n",
       " 'blue',\n",
       " 'yellow',\n",
       " 'blue',\n",
       " 'blue',\n",
       " 'blue',\n",
       " 'yellow',\n",
       " 'blue',\n",
       " 'blue',\n",
       " 'blue',\n",
       " 'blue',\n",
       " 'blue',\n",
       " 'blue',\n",
       " 'blue',\n",
       " 'blue',\n",
       " 'blue',\n",
       " 'blue',\n",
       " 'blue',\n",
       " 'yellow',\n",
       " 'blue',\n",
       " 'yellow',\n",
       " 'blue',\n",
       " 'yellow',\n",
       " 'blue',\n",
       " 'yellow',\n",
       " 'blue',\n",
       " 'blue',\n",
       " 'yellow',\n",
       " 'yellow',\n",
       " 'blue',\n",
       " 'blue',\n",
       " 'yellow',\n",
       " 'blue',\n",
       " 'blue',\n",
       " 'blue',\n",
       " 'blue',\n",
       " 'blue',\n",
       " 'yellow',\n",
       " 'blue',\n",
       " 'blue',\n",
       " 'blue',\n",
       " 'yellow',\n",
       " 'blue',\n",
       " 'blue',\n",
       " 'yellow',\n",
       " 'blue',\n",
       " 'blue',\n",
       " 'yellow',\n",
       " 'yellow',\n",
       " 'blue',\n",
       " 'yellow',\n",
       " 'yellow',\n",
       " 'blue',\n",
       " 'yellow',\n",
       " 'yellow',\n",
       " 'yellow',\n",
       " 'yellow',\n",
       " 'yellow',\n",
       " 'blue',\n",
       " 'yellow',\n",
       " 'yellow',\n",
       " 'yellow',\n",
       " 'blue',\n",
       " 'blue',\n",
       " 'blue',\n",
       " 'yellow']"
      ]
     },
     "execution_count": 42,
     "metadata": {},
     "output_type": "execute_result"
    }
   ],
   "source": [
    "empty #thanks python, for not making me count this up myself!"
   ]
  },
  {
   "cell_type": "markdown",
   "metadata": {},
   "source": [
    "We've been studying the experimentally observed probability of drawing from a bag of marbles. These types of observations are often called \"statistics.\" The observed outcomes of an experiment will often closely resemble the mathematical probability of that outcome, but thanks to randomness, we won't always get exactly $\\frac{10}{20}$ draws that are blue, or even $\\frac{500}{1000}$ draws that are blue. "
   ]
  },
  {
   "cell_type": "markdown",
   "metadata": {},
   "source": [
    "### First quick project:\n",
    "To wrap up this section up, write some code below that will fill a bag with 4 green marbles, 5 red marbles, and 16 pink marbles. Your code should calculate the observed probabilities of drawing a green, red and pink marbles."
   ]
  },
  {
   "cell_type": "markdown",
   "metadata": {},
   "source": [
    "Begin by calculating the simple probabilities of drawing a green, a red, and a pink marble:"
   ]
  },
  {
   "cell_type": "code",
   "execution_count": 43,
   "metadata": {},
   "outputs": [
    {
     "data": {
      "text/plain": [
       "0.16"
      ]
     },
     "execution_count": 43,
     "metadata": {},
     "output_type": "execute_result"
    }
   ],
   "source": [
    "4/25 # ratio of green to total"
   ]
  },
  {
   "cell_type": "code",
   "execution_count": 44,
   "metadata": {},
   "outputs": [
    {
     "data": {
      "text/plain": [
       "0.2"
      ]
     },
     "execution_count": 44,
     "metadata": {},
     "output_type": "execute_result"
    }
   ],
   "source": [
    "5/25 # ratio of red to total"
   ]
  },
  {
   "cell_type": "code",
   "execution_count": 45,
   "metadata": {},
   "outputs": [
    {
     "data": {
      "text/plain": [
       "0.6"
      ]
     },
     "execution_count": 45,
     "metadata": {},
     "output_type": "execute_result"
    }
   ],
   "source": [
    "15/25 # ratio of pink to total"
   ]
  },
  {
   "cell_type": "markdown",
   "metadata": {},
   "source": [
    "Next, assign `bag` a list containing 4, 5, and 16 strings that are `'red'`, `'green'`, and `'pink'` respectively. "
   ]
  },
  {
   "cell_type": "code",
   "execution_count": 46,
   "metadata": {},
   "outputs": [],
   "source": [
    "bag = ['green']*4+['red']*5+['pink']*16"
   ]
  },
  {
   "cell_type": "markdown",
   "metadata": {},
   "source": [
    "Create an `empty` list for keeping track of your draws, then run your experiment by shuffling the bag, drawing one of the elements, and appending it to empty. (do refer to my code above, but try writing it by yourself before copying)"
   ]
  },
  {
   "cell_type": "code",
   "execution_count": 47,
   "metadata": {},
   "outputs": [],
   "source": [
    "empty=[]\n",
    "for i in range(110):\n",
    "    random.shuffle(bag)\n",
    "empty.append(bag[0]*56)\n",
    "empty.append(bag[1]*41)\n",
    "empty.append(bag[2]*7)\n",
    "#next, use a for loop to repeat the shuffling, drawing and appending over and over"
   ]
  },
  {
   "cell_type": "markdown",
   "metadata": {},
   "source": [
    "Finally, calculate the number of 'red', 'green', and 'pink' draws divided by the number of trials to find your experimental probabilities."
   ]
  },
  {
   "cell_type": "code",
   "execution_count": 48,
   "metadata": {},
   "outputs": [
    {
     "data": {
      "text/plain": [
       "0"
      ]
     },
     "execution_count": 48,
     "metadata": {},
     "output_type": "execute_result"
    }
   ],
   "source": [
    "empty.count('green')\n",
    "#hint: use empty.count('red') to find how many 'red' elements appear in empty"
   ]
  },
  {
   "cell_type": "markdown",
   "metadata": {},
   "source": [
    "Do your experimental probabilities look close to the simple probabilities you calculated at the beginning? When you repeat the experiment, does it seem to be close each time?\n",
    "\n",
    "[your response here]"
   ]
  },
  {
   "cell_type": "markdown",
   "metadata": {},
   "source": [
    "Let's move onto a different situation and study the multiplication rule of counting."
   ]
  },
  {
   "cell_type": "markdown",
   "metadata": {},
   "source": [
    "## Counting"
   ]
  },
  {
   "cell_type": "markdown",
   "metadata": {},
   "source": [
    "You may think, \"Mr. P, I've already learned how to count!\" And I would likely believe you. But, there are situations in the study of probability where counting the number of unique possible outcomes is actually pretty challenging, and certainly not obvious."
   ]
  },
  {
   "cell_type": "markdown",
   "metadata": {},
   "source": [
    "Let's pretend you have 4 different choices to make every day you get dressed for work. You'll choose one of each of the following:\n",
    "- 3 hats\n",
    "- 5 tops\n",
    "- 4 bottoms\n",
    "- 3 pairs of shoes"
   ]
  },
  {
   "cell_type": "markdown",
   "metadata": {},
   "source": [
    "Now, lets get creative."
   ]
  },
  {
   "cell_type": "code",
   "execution_count": 49,
   "metadata": {},
   "outputs": [],
   "source": [
    "hats = ['cool hat', 'straw hat', 'Seattle Sonics hat']\n",
    "tops = ['blue t-shirt', 'red sweater', 'button down tee', 'XXXXL yellow tee', 'leather tee']\n",
    "bottoms = ['jeans', 'shorts', 'PJs', 'kilt']\n",
    "shoes = ['tennis shoes', 'clogs', 'fancy clogs']"
   ]
  },
  {
   "cell_type": "markdown",
   "metadata": {},
   "source": [
    "The `random` module has another useful method: `choice( )`\n",
    "\n",
    "It picks a random element from the list you give as its input, like so:"
   ]
  },
  {
   "cell_type": "code",
   "execution_count": 50,
   "metadata": {},
   "outputs": [
    {
     "data": {
      "text/plain": [
       "'button down tee'"
      ]
     },
     "execution_count": 50,
     "metadata": {},
     "output_type": "execute_result"
    }
   ],
   "source": [
    "random.choice(tops)"
   ]
  },
  {
   "cell_type": "markdown",
   "metadata": {},
   "source": [
    "Each time you run the above code, it will output a random pick from the list `tops`."
   ]
  },
  {
   "cell_type": "markdown",
   "metadata": {},
   "source": [
    "Next, mainly for our enjoyment, let's pick a random outfit:"
   ]
  },
  {
   "cell_type": "code",
   "execution_count": 51,
   "metadata": {},
   "outputs": [
    {
     "data": {
      "text/plain": [
       "'straw hatblue t-shirtjeansfancy clogs'"
      ]
     },
     "execution_count": 51,
     "metadata": {},
     "output_type": "execute_result"
    }
   ],
   "source": [
    "random.choice(hats)+random.choice(tops)+random.choice(bottoms)+random.choice(shoes)"
   ]
  },
  {
   "cell_type": "markdown",
   "metadata": {},
   "source": [
    "Here is a way that's a bit more organized:"
   ]
  },
  {
   "cell_type": "code",
   "execution_count": 52,
   "metadata": {},
   "outputs": [
    {
     "name": "stdout",
     "output_type": "stream",
     "text": [
      "['cool hat', 'leather tee', 'jeans', 'clogs']\n"
     ]
    }
   ],
   "source": [
    "outfit=[]\n",
    "\n",
    "hat=random.choice(hats)\n",
    "top=random.choice(tops)\n",
    "bottom=random.choice(bottoms)\n",
    "shoe=random.choice(shoes)\n",
    "\n",
    "print([hat,top,bottom,shoe])"
   ]
  },
  {
   "cell_type": "markdown",
   "metadata": {},
   "source": [
    "How could you print out all the elements of `top`, one by one?"
   ]
  },
  {
   "cell_type": "code",
   "execution_count": 53,
   "metadata": {},
   "outputs": [
    {
     "name": "stdout",
     "output_type": "stream",
     "text": [
      "['blue t-shirt', 'red sweater', 'button down tee', 'XXXXL yellow tee', 'leather tee']\n"
     ]
    }
   ],
   "source": [
    "n = tops\n",
    "print(n)# your code here"
   ]
  },
  {
   "cell_type": "code",
   "execution_count": 54,
   "metadata": {},
   "outputs": [
    {
     "data": {
      "text/plain": [
       "\"Try it by yourself\\n\\n.\\n.\\n.\\n.\\n\\nBefore you look at my answer below\\n\\n.\\n.\\n.\\n.\\n.\\n.\\n\\nJust see if you can, then copy if you're not sure!\\n\\n\\n.\\n.\\n.\\n.\\n.\\n\\nOk here's my answer!\""
      ]
     },
     "execution_count": 54,
     "metadata": {},
     "output_type": "execute_result"
    }
   ],
   "source": [
    "\"\"\"Try it by yourself\n",
    "\n",
    ".\n",
    ".\n",
    ".\n",
    ".\n",
    "\n",
    "Before you look at my answer below\n",
    "\n",
    ".\n",
    ".\n",
    ".\n",
    ".\n",
    ".\n",
    ".\n",
    "\n",
    "Just see if you can, then copy if you're not sure!\n",
    "\n",
    "\n",
    ".\n",
    ".\n",
    ".\n",
    ".\n",
    ".\n",
    "\n",
    "Ok here's my answer!\"\"\""
   ]
  },
  {
   "cell_type": "code",
   "execution_count": 55,
   "metadata": {},
   "outputs": [
    {
     "name": "stdout",
     "output_type": "stream",
     "text": [
      "blue t-shirt\n",
      "red sweater\n",
      "button down tee\n",
      "XXXXL yellow tee\n",
      "leather tee\n"
     ]
    }
   ],
   "source": [
    "for t in tops:\n",
    "    print(t)"
   ]
  },
  {
   "cell_type": "markdown",
   "metadata": {},
   "source": [
    "Great! Let's pose the question we're all dying to figure out: \n",
    "\n",
    "## How many different outfits are possible given your current wardrobe?\n",
    "\n",
    "It's not an obvious question, but we'll soon learn that it is a mathematically simple one to answer.\n",
    "\n",
    "But first, let's see if we can get python to print out every unique outfit we could choose."
   ]
  },
  {
   "cell_type": "markdown",
   "metadata": {},
   "source": [
    "Let's use a similar approach as in our last experiment: start with an empty list of `outfits`, then append all the choices of hat, top, bottom and shoes one after the other."
   ]
  },
  {
   "cell_type": "code",
   "execution_count": 56,
   "metadata": {},
   "outputs": [],
   "source": [
    "outfits=[]\n",
    "for hat in hats:\n",
    "\n",
    "    for top in tops:\n",
    "\n",
    "        for bottom in bottoms:\n",
    "\n",
    "            for s in shoes:\n",
    "                outfits.append([hat, top, bottom, s])"
   ]
  },
  {
   "cell_type": "code",
   "execution_count": 57,
   "metadata": {},
   "outputs": [
    {
     "data": {
      "text/plain": [
       "[['cool hat', 'blue t-shirt', 'jeans', 'tennis shoes'],\n",
       " ['cool hat', 'blue t-shirt', 'jeans', 'clogs'],\n",
       " ['cool hat', 'blue t-shirt', 'jeans', 'fancy clogs'],\n",
       " ['cool hat', 'blue t-shirt', 'shorts', 'tennis shoes'],\n",
       " ['cool hat', 'blue t-shirt', 'shorts', 'clogs'],\n",
       " ['cool hat', 'blue t-shirt', 'shorts', 'fancy clogs'],\n",
       " ['cool hat', 'blue t-shirt', 'PJs', 'tennis shoes'],\n",
       " ['cool hat', 'blue t-shirt', 'PJs', 'clogs'],\n",
       " ['cool hat', 'blue t-shirt', 'PJs', 'fancy clogs'],\n",
       " ['cool hat', 'blue t-shirt', 'kilt', 'tennis shoes'],\n",
       " ['cool hat', 'blue t-shirt', 'kilt', 'clogs'],\n",
       " ['cool hat', 'blue t-shirt', 'kilt', 'fancy clogs'],\n",
       " ['cool hat', 'red sweater', 'jeans', 'tennis shoes'],\n",
       " ['cool hat', 'red sweater', 'jeans', 'clogs'],\n",
       " ['cool hat', 'red sweater', 'jeans', 'fancy clogs'],\n",
       " ['cool hat', 'red sweater', 'shorts', 'tennis shoes'],\n",
       " ['cool hat', 'red sweater', 'shorts', 'clogs'],\n",
       " ['cool hat', 'red sweater', 'shorts', 'fancy clogs'],\n",
       " ['cool hat', 'red sweater', 'PJs', 'tennis shoes'],\n",
       " ['cool hat', 'red sweater', 'PJs', 'clogs'],\n",
       " ['cool hat', 'red sweater', 'PJs', 'fancy clogs'],\n",
       " ['cool hat', 'red sweater', 'kilt', 'tennis shoes'],\n",
       " ['cool hat', 'red sweater', 'kilt', 'clogs'],\n",
       " ['cool hat', 'red sweater', 'kilt', 'fancy clogs'],\n",
       " ['cool hat', 'button down tee', 'jeans', 'tennis shoes'],\n",
       " ['cool hat', 'button down tee', 'jeans', 'clogs'],\n",
       " ['cool hat', 'button down tee', 'jeans', 'fancy clogs'],\n",
       " ['cool hat', 'button down tee', 'shorts', 'tennis shoes'],\n",
       " ['cool hat', 'button down tee', 'shorts', 'clogs'],\n",
       " ['cool hat', 'button down tee', 'shorts', 'fancy clogs'],\n",
       " ['cool hat', 'button down tee', 'PJs', 'tennis shoes'],\n",
       " ['cool hat', 'button down tee', 'PJs', 'clogs'],\n",
       " ['cool hat', 'button down tee', 'PJs', 'fancy clogs'],\n",
       " ['cool hat', 'button down tee', 'kilt', 'tennis shoes'],\n",
       " ['cool hat', 'button down tee', 'kilt', 'clogs'],\n",
       " ['cool hat', 'button down tee', 'kilt', 'fancy clogs'],\n",
       " ['cool hat', 'XXXXL yellow tee', 'jeans', 'tennis shoes'],\n",
       " ['cool hat', 'XXXXL yellow tee', 'jeans', 'clogs'],\n",
       " ['cool hat', 'XXXXL yellow tee', 'jeans', 'fancy clogs'],\n",
       " ['cool hat', 'XXXXL yellow tee', 'shorts', 'tennis shoes'],\n",
       " ['cool hat', 'XXXXL yellow tee', 'shorts', 'clogs'],\n",
       " ['cool hat', 'XXXXL yellow tee', 'shorts', 'fancy clogs'],\n",
       " ['cool hat', 'XXXXL yellow tee', 'PJs', 'tennis shoes'],\n",
       " ['cool hat', 'XXXXL yellow tee', 'PJs', 'clogs'],\n",
       " ['cool hat', 'XXXXL yellow tee', 'PJs', 'fancy clogs'],\n",
       " ['cool hat', 'XXXXL yellow tee', 'kilt', 'tennis shoes'],\n",
       " ['cool hat', 'XXXXL yellow tee', 'kilt', 'clogs'],\n",
       " ['cool hat', 'XXXXL yellow tee', 'kilt', 'fancy clogs'],\n",
       " ['cool hat', 'leather tee', 'jeans', 'tennis shoes'],\n",
       " ['cool hat', 'leather tee', 'jeans', 'clogs'],\n",
       " ['cool hat', 'leather tee', 'jeans', 'fancy clogs'],\n",
       " ['cool hat', 'leather tee', 'shorts', 'tennis shoes'],\n",
       " ['cool hat', 'leather tee', 'shorts', 'clogs'],\n",
       " ['cool hat', 'leather tee', 'shorts', 'fancy clogs'],\n",
       " ['cool hat', 'leather tee', 'PJs', 'tennis shoes'],\n",
       " ['cool hat', 'leather tee', 'PJs', 'clogs'],\n",
       " ['cool hat', 'leather tee', 'PJs', 'fancy clogs'],\n",
       " ['cool hat', 'leather tee', 'kilt', 'tennis shoes'],\n",
       " ['cool hat', 'leather tee', 'kilt', 'clogs'],\n",
       " ['cool hat', 'leather tee', 'kilt', 'fancy clogs'],\n",
       " ['straw hat', 'blue t-shirt', 'jeans', 'tennis shoes'],\n",
       " ['straw hat', 'blue t-shirt', 'jeans', 'clogs'],\n",
       " ['straw hat', 'blue t-shirt', 'jeans', 'fancy clogs'],\n",
       " ['straw hat', 'blue t-shirt', 'shorts', 'tennis shoes'],\n",
       " ['straw hat', 'blue t-shirt', 'shorts', 'clogs'],\n",
       " ['straw hat', 'blue t-shirt', 'shorts', 'fancy clogs'],\n",
       " ['straw hat', 'blue t-shirt', 'PJs', 'tennis shoes'],\n",
       " ['straw hat', 'blue t-shirt', 'PJs', 'clogs'],\n",
       " ['straw hat', 'blue t-shirt', 'PJs', 'fancy clogs'],\n",
       " ['straw hat', 'blue t-shirt', 'kilt', 'tennis shoes'],\n",
       " ['straw hat', 'blue t-shirt', 'kilt', 'clogs'],\n",
       " ['straw hat', 'blue t-shirt', 'kilt', 'fancy clogs'],\n",
       " ['straw hat', 'red sweater', 'jeans', 'tennis shoes'],\n",
       " ['straw hat', 'red sweater', 'jeans', 'clogs'],\n",
       " ['straw hat', 'red sweater', 'jeans', 'fancy clogs'],\n",
       " ['straw hat', 'red sweater', 'shorts', 'tennis shoes'],\n",
       " ['straw hat', 'red sweater', 'shorts', 'clogs'],\n",
       " ['straw hat', 'red sweater', 'shorts', 'fancy clogs'],\n",
       " ['straw hat', 'red sweater', 'PJs', 'tennis shoes'],\n",
       " ['straw hat', 'red sweater', 'PJs', 'clogs'],\n",
       " ['straw hat', 'red sweater', 'PJs', 'fancy clogs'],\n",
       " ['straw hat', 'red sweater', 'kilt', 'tennis shoes'],\n",
       " ['straw hat', 'red sweater', 'kilt', 'clogs'],\n",
       " ['straw hat', 'red sweater', 'kilt', 'fancy clogs'],\n",
       " ['straw hat', 'button down tee', 'jeans', 'tennis shoes'],\n",
       " ['straw hat', 'button down tee', 'jeans', 'clogs'],\n",
       " ['straw hat', 'button down tee', 'jeans', 'fancy clogs'],\n",
       " ['straw hat', 'button down tee', 'shorts', 'tennis shoes'],\n",
       " ['straw hat', 'button down tee', 'shorts', 'clogs'],\n",
       " ['straw hat', 'button down tee', 'shorts', 'fancy clogs'],\n",
       " ['straw hat', 'button down tee', 'PJs', 'tennis shoes'],\n",
       " ['straw hat', 'button down tee', 'PJs', 'clogs'],\n",
       " ['straw hat', 'button down tee', 'PJs', 'fancy clogs'],\n",
       " ['straw hat', 'button down tee', 'kilt', 'tennis shoes'],\n",
       " ['straw hat', 'button down tee', 'kilt', 'clogs'],\n",
       " ['straw hat', 'button down tee', 'kilt', 'fancy clogs'],\n",
       " ['straw hat', 'XXXXL yellow tee', 'jeans', 'tennis shoes'],\n",
       " ['straw hat', 'XXXXL yellow tee', 'jeans', 'clogs'],\n",
       " ['straw hat', 'XXXXL yellow tee', 'jeans', 'fancy clogs'],\n",
       " ['straw hat', 'XXXXL yellow tee', 'shorts', 'tennis shoes'],\n",
       " ['straw hat', 'XXXXL yellow tee', 'shorts', 'clogs'],\n",
       " ['straw hat', 'XXXXL yellow tee', 'shorts', 'fancy clogs'],\n",
       " ['straw hat', 'XXXXL yellow tee', 'PJs', 'tennis shoes'],\n",
       " ['straw hat', 'XXXXL yellow tee', 'PJs', 'clogs'],\n",
       " ['straw hat', 'XXXXL yellow tee', 'PJs', 'fancy clogs'],\n",
       " ['straw hat', 'XXXXL yellow tee', 'kilt', 'tennis shoes'],\n",
       " ['straw hat', 'XXXXL yellow tee', 'kilt', 'clogs'],\n",
       " ['straw hat', 'XXXXL yellow tee', 'kilt', 'fancy clogs'],\n",
       " ['straw hat', 'leather tee', 'jeans', 'tennis shoes'],\n",
       " ['straw hat', 'leather tee', 'jeans', 'clogs'],\n",
       " ['straw hat', 'leather tee', 'jeans', 'fancy clogs'],\n",
       " ['straw hat', 'leather tee', 'shorts', 'tennis shoes'],\n",
       " ['straw hat', 'leather tee', 'shorts', 'clogs'],\n",
       " ['straw hat', 'leather tee', 'shorts', 'fancy clogs'],\n",
       " ['straw hat', 'leather tee', 'PJs', 'tennis shoes'],\n",
       " ['straw hat', 'leather tee', 'PJs', 'clogs'],\n",
       " ['straw hat', 'leather tee', 'PJs', 'fancy clogs'],\n",
       " ['straw hat', 'leather tee', 'kilt', 'tennis shoes'],\n",
       " ['straw hat', 'leather tee', 'kilt', 'clogs'],\n",
       " ['straw hat', 'leather tee', 'kilt', 'fancy clogs'],\n",
       " ['Seattle Sonics hat', 'blue t-shirt', 'jeans', 'tennis shoes'],\n",
       " ['Seattle Sonics hat', 'blue t-shirt', 'jeans', 'clogs'],\n",
       " ['Seattle Sonics hat', 'blue t-shirt', 'jeans', 'fancy clogs'],\n",
       " ['Seattle Sonics hat', 'blue t-shirt', 'shorts', 'tennis shoes'],\n",
       " ['Seattle Sonics hat', 'blue t-shirt', 'shorts', 'clogs'],\n",
       " ['Seattle Sonics hat', 'blue t-shirt', 'shorts', 'fancy clogs'],\n",
       " ['Seattle Sonics hat', 'blue t-shirt', 'PJs', 'tennis shoes'],\n",
       " ['Seattle Sonics hat', 'blue t-shirt', 'PJs', 'clogs'],\n",
       " ['Seattle Sonics hat', 'blue t-shirt', 'PJs', 'fancy clogs'],\n",
       " ['Seattle Sonics hat', 'blue t-shirt', 'kilt', 'tennis shoes'],\n",
       " ['Seattle Sonics hat', 'blue t-shirt', 'kilt', 'clogs'],\n",
       " ['Seattle Sonics hat', 'blue t-shirt', 'kilt', 'fancy clogs'],\n",
       " ['Seattle Sonics hat', 'red sweater', 'jeans', 'tennis shoes'],\n",
       " ['Seattle Sonics hat', 'red sweater', 'jeans', 'clogs'],\n",
       " ['Seattle Sonics hat', 'red sweater', 'jeans', 'fancy clogs'],\n",
       " ['Seattle Sonics hat', 'red sweater', 'shorts', 'tennis shoes'],\n",
       " ['Seattle Sonics hat', 'red sweater', 'shorts', 'clogs'],\n",
       " ['Seattle Sonics hat', 'red sweater', 'shorts', 'fancy clogs'],\n",
       " ['Seattle Sonics hat', 'red sweater', 'PJs', 'tennis shoes'],\n",
       " ['Seattle Sonics hat', 'red sweater', 'PJs', 'clogs'],\n",
       " ['Seattle Sonics hat', 'red sweater', 'PJs', 'fancy clogs'],\n",
       " ['Seattle Sonics hat', 'red sweater', 'kilt', 'tennis shoes'],\n",
       " ['Seattle Sonics hat', 'red sweater', 'kilt', 'clogs'],\n",
       " ['Seattle Sonics hat', 'red sweater', 'kilt', 'fancy clogs'],\n",
       " ['Seattle Sonics hat', 'button down tee', 'jeans', 'tennis shoes'],\n",
       " ['Seattle Sonics hat', 'button down tee', 'jeans', 'clogs'],\n",
       " ['Seattle Sonics hat', 'button down tee', 'jeans', 'fancy clogs'],\n",
       " ['Seattle Sonics hat', 'button down tee', 'shorts', 'tennis shoes'],\n",
       " ['Seattle Sonics hat', 'button down tee', 'shorts', 'clogs'],\n",
       " ['Seattle Sonics hat', 'button down tee', 'shorts', 'fancy clogs'],\n",
       " ['Seattle Sonics hat', 'button down tee', 'PJs', 'tennis shoes'],\n",
       " ['Seattle Sonics hat', 'button down tee', 'PJs', 'clogs'],\n",
       " ['Seattle Sonics hat', 'button down tee', 'PJs', 'fancy clogs'],\n",
       " ['Seattle Sonics hat', 'button down tee', 'kilt', 'tennis shoes'],\n",
       " ['Seattle Sonics hat', 'button down tee', 'kilt', 'clogs'],\n",
       " ['Seattle Sonics hat', 'button down tee', 'kilt', 'fancy clogs'],\n",
       " ['Seattle Sonics hat', 'XXXXL yellow tee', 'jeans', 'tennis shoes'],\n",
       " ['Seattle Sonics hat', 'XXXXL yellow tee', 'jeans', 'clogs'],\n",
       " ['Seattle Sonics hat', 'XXXXL yellow tee', 'jeans', 'fancy clogs'],\n",
       " ['Seattle Sonics hat', 'XXXXL yellow tee', 'shorts', 'tennis shoes'],\n",
       " ['Seattle Sonics hat', 'XXXXL yellow tee', 'shorts', 'clogs'],\n",
       " ['Seattle Sonics hat', 'XXXXL yellow tee', 'shorts', 'fancy clogs'],\n",
       " ['Seattle Sonics hat', 'XXXXL yellow tee', 'PJs', 'tennis shoes'],\n",
       " ['Seattle Sonics hat', 'XXXXL yellow tee', 'PJs', 'clogs'],\n",
       " ['Seattle Sonics hat', 'XXXXL yellow tee', 'PJs', 'fancy clogs'],\n",
       " ['Seattle Sonics hat', 'XXXXL yellow tee', 'kilt', 'tennis shoes'],\n",
       " ['Seattle Sonics hat', 'XXXXL yellow tee', 'kilt', 'clogs'],\n",
       " ['Seattle Sonics hat', 'XXXXL yellow tee', 'kilt', 'fancy clogs'],\n",
       " ['Seattle Sonics hat', 'leather tee', 'jeans', 'tennis shoes'],\n",
       " ['Seattle Sonics hat', 'leather tee', 'jeans', 'clogs'],\n",
       " ['Seattle Sonics hat', 'leather tee', 'jeans', 'fancy clogs'],\n",
       " ['Seattle Sonics hat', 'leather tee', 'shorts', 'tennis shoes'],\n",
       " ['Seattle Sonics hat', 'leather tee', 'shorts', 'clogs'],\n",
       " ['Seattle Sonics hat', 'leather tee', 'shorts', 'fancy clogs'],\n",
       " ['Seattle Sonics hat', 'leather tee', 'PJs', 'tennis shoes'],\n",
       " ['Seattle Sonics hat', 'leather tee', 'PJs', 'clogs'],\n",
       " ['Seattle Sonics hat', 'leather tee', 'PJs', 'fancy clogs'],\n",
       " ['Seattle Sonics hat', 'leather tee', 'kilt', 'tennis shoes'],\n",
       " ['Seattle Sonics hat', 'leather tee', 'kilt', 'clogs'],\n",
       " ['Seattle Sonics hat', 'leather tee', 'kilt', 'fancy clogs']]"
      ]
     },
     "execution_count": 57,
     "metadata": {},
     "output_type": "execute_result"
    }
   ],
   "source": [
    "outfits # you can learn a lot about for loops by trying to find the pattern in this list!"
   ]
  },
  {
   "cell_type": "markdown",
   "metadata": {},
   "source": [
    "Now, finding the length of our list `outfits` is easy using the common python function, `len( )`:"
   ]
  },
  {
   "cell_type": "code",
   "execution_count": 58,
   "metadata": {},
   "outputs": [
    {
     "data": {
      "text/plain": [
       "180"
      ]
     },
     "execution_count": 58,
     "metadata": {},
     "output_type": "execute_result"
    }
   ],
   "source": [
    "len(outfits)"
   ]
  },
  {
   "cell_type": "markdown",
   "metadata": {},
   "source": [
    "Perhaps you have already figured out the quick way of finding the answer to the question of how many unique outfits we have, but if not, here's a hint:"
   ]
  },
  {
   "cell_type": "code",
   "execution_count": 59,
   "metadata": {},
   "outputs": [
    {
     "data": {
      "text/plain": [
       "180"
      ]
     },
     "execution_count": 59,
     "metadata": {},
     "output_type": "execute_result"
    }
   ],
   "source": [
    "3*5*4*3"
   ]
  },
  {
   "cell_type": "markdown",
   "metadata": {},
   "source": [
    "So, please explain, what do you think the \"rule of product\" means for counting? (see https://en.wikipedia.org/wiki/Rule_of_product for a way too complicated answer)\n",
    "\n",
    "[The multiplication Table is a way of counting where there is a number of choices for every letter.]"
   ]
  },
  {
   "cell_type": "markdown",
   "metadata": {},
   "source": [
    "Now, wasn't that satisfying? 180 outfits, count-em! And yes, I could have just told you to multiply the number of hats by the number of tops by the number of bottoms by the number of pairs of shoes, but would you have believed me? I think it's much more convincing to let python **show** you every single unique outfit. Plus, now I have a great new way to get dressed in the morning!"
   ]
  },
  {
   "cell_type": "code",
   "execution_count": 60,
   "metadata": {},
   "outputs": [
    {
     "data": {
      "text/plain": [
       "['cool hat', 'XXXXL yellow tee', 'jeans', 'tennis shoes']"
      ]
     },
     "execution_count": 60,
     "metadata": {},
     "output_type": "execute_result"
    }
   ],
   "source": [
    "random.choice(outfits)"
   ]
  },
  {
   "cell_type": "markdown",
   "metadata": {},
   "source": [
    "## Card games"
   ]
  },
  {
   "cell_type": "markdown",
   "metadata": {},
   "source": [
    "The last situation I want to explore in our Randomness assignment involves a deck of cards. If you're not familiar with what a deck of cards consists of, please quickly skim https://boardgamegeek.com/wiki/page/standard_deck_playing_card_games"
   ]
  },
  {
   "cell_type": "markdown",
   "metadata": {},
   "source": [
    "Lets think about how python could generate a deck of cards."
   ]
  },
  {
   "cell_type": "code",
   "execution_count": 61,
   "metadata": {},
   "outputs": [],
   "source": [
    "suits = ['♤', '♧', '♡', '♢']\n",
    "cards = ['A']+list(range(2,11))+['J','Q','K'] # range(2,11) won't include 10"
   ]
  },
  {
   "cell_type": "code",
   "execution_count": 62,
   "metadata": {},
   "outputs": [],
   "source": [
    "deck=[]\n",
    "for suit in suits:\n",
    "    for card in cards:\n",
    "        deck.append(str(card) + suit) #without str(card), sometimes we'd be adding an int to a str!"
   ]
  },
  {
   "cell_type": "code",
   "execution_count": 63,
   "metadata": {},
   "outputs": [
    {
     "name": "stdout",
     "output_type": "stream",
     "text": [
      "['A♤', '2♤', '3♤', '4♤', '5♤', '6♤', '7♤', '8♤', '9♤', '10♤', 'J♤', 'Q♤', 'K♤', 'A♧', '2♧', '3♧', '4♧', '5♧', '6♧', '7♧', '8♧', '9♧', '10♧', 'J♧', 'Q♧', 'K♧', 'A♡', '2♡', '3♡', '4♡', '5♡', '6♡', '7♡', '8♡', '9♡', '10♡', 'J♡', 'Q♡', 'K♡', 'A♢', '2♢', '3♢', '4♢', '5♢', '6♢', '7♢', '8♢', '9♢', '10♢', 'J♢', 'Q♢', 'K♢']\n"
     ]
    }
   ],
   "source": [
    "print(deck)"
   ]
  },
  {
   "cell_type": "code",
   "execution_count": 64,
   "metadata": {},
   "outputs": [
    {
     "data": {
      "text/plain": [
       "52"
      ]
     },
     "execution_count": 64,
     "metadata": {},
     "output_type": "execute_result"
    }
   ],
   "source": [
    "len(deck) #hopefully we have 52 cards!"
   ]
  },
  {
   "cell_type": "markdown",
   "metadata": {},
   "source": [
    "In fact, let's capture all that code as a nice buttoned-up function, `make_deck()`."
   ]
  },
  {
   "cell_type": "code",
   "execution_count": 65,
   "metadata": {},
   "outputs": [],
   "source": [
    "def make_deck(): #this function has no input! That's ok, we don't need any input...\n",
    "    suits = ['♤', '♧', '♡', '♢']\n",
    "    cards = ['A']+list(range(2,11))+['J','Q','K']\n",
    "    deck=[]\n",
    "    for suit in suits:\n",
    "        for card in cards:\n",
    "            deck.append(str(card) + suit) #without str(card), sometimes we'd be adding an int to a str!\n",
    "    return deck #but it does have output!"
   ]
  },
  {
   "cell_type": "markdown",
   "metadata": {},
   "source": [
    "Now we can reset our deck by assigning `make_deck()` to a variable."
   ]
  },
  {
   "cell_type": "code",
   "execution_count": 66,
   "metadata": {},
   "outputs": [
    {
     "data": {
      "text/plain": [
       "['A♤',\n",
       " '2♤',\n",
       " '3♤',\n",
       " '4♤',\n",
       " '5♤',\n",
       " '6♤',\n",
       " '7♤',\n",
       " '8♤',\n",
       " '9♤',\n",
       " '10♤',\n",
       " 'J♤',\n",
       " 'Q♤',\n",
       " 'K♤',\n",
       " 'A♧',\n",
       " '2♧',\n",
       " '3♧',\n",
       " '4♧',\n",
       " '5♧',\n",
       " '6♧',\n",
       " '7♧',\n",
       " '8♧',\n",
       " '9♧',\n",
       " '10♧',\n",
       " 'J♧',\n",
       " 'Q♧',\n",
       " 'K♧',\n",
       " 'A♡',\n",
       " '2♡',\n",
       " '3♡',\n",
       " '4♡',\n",
       " '5♡',\n",
       " '6♡',\n",
       " '7♡',\n",
       " '8♡',\n",
       " '9♡',\n",
       " '10♡',\n",
       " 'J♡',\n",
       " 'Q♡',\n",
       " 'K♡',\n",
       " 'A♢',\n",
       " '2♢',\n",
       " '3♢',\n",
       " '4♢',\n",
       " '5♢',\n",
       " '6♢',\n",
       " '7♢',\n",
       " '8♢',\n",
       " '9♢',\n",
       " '10♢',\n",
       " 'J♢',\n",
       " 'Q♢',\n",
       " 'K♢']"
      ]
     },
     "execution_count": 66,
     "metadata": {},
     "output_type": "execute_result"
    }
   ],
   "source": [
    "deck=make_deck()\n",
    "deck"
   ]
  },
  {
   "cell_type": "markdown",
   "metadata": {},
   "source": [
    "Ok, great! Now that `deck` holds a full deck of cards, we can proceed to play around with some playing card probabilities!"
   ]
  },
  {
   "cell_type": "markdown",
   "metadata": {},
   "source": [
    "How could we draw a card at random?"
   ]
  },
  {
   "cell_type": "code",
   "execution_count": 67,
   "metadata": {},
   "outputs": [
    {
     "name": "stdout",
     "output_type": "stream",
     "text": [
      "J♤\n"
     ]
    }
   ],
   "source": [
    "random.shuffle(deck)# your code here\n",
    "print(deck[0])"
   ]
  },
  {
   "cell_type": "markdown",
   "metadata": {},
   "source": [
    "How could we shuffle the deck? (randomly change the position of every card in the deck)"
   ]
  },
  {
   "cell_type": "code",
   "execution_count": 68,
   "metadata": {},
   "outputs": [
    {
     "name": "stdout",
     "output_type": "stream",
     "text": [
      "['6♢', 'A♢', '7♡', '6♤', 'K♢', '9♡', '6♧', '2♤', '4♡', '7♢', '5♡', '6♡', 'A♤', '9♢', 'A♧', '9♧', 'Q♧', 'J♢', '3♧', 'J♧', 'Q♤', '8♤', '4♤', 'K♡', '10♢', '5♢', 'A♡', 'Q♡', '4♧', '9♤', '5♤', '3♢', '8♡', 'K♧', 'J♤', '10♤', '5♧', 'J♡', '7♤', '7♧', '3♡', 'K♤', '2♢', '8♧', 'Q♢', '8♢', '10♡', '4♢', '3♤', '2♡', '10♧', '2♧']\n"
     ]
    }
   ],
   "source": [
    "random.shuffle(deck)\n",
    "print(deck)# your code here"
   ]
  },
  {
   "cell_type": "markdown",
   "metadata": {},
   "source": [
    "The `pop()` method will draw an element from a list, then remove it from that list. It takes the index number you wish to remove and returns the element: "
   ]
  },
  {
   "cell_type": "code",
   "execution_count": 69,
   "metadata": {},
   "outputs": [
    {
     "data": {
      "text/plain": [
       "'6♢'"
      ]
     },
     "execution_count": 69,
     "metadata": {},
     "output_type": "execute_result"
    }
   ],
   "source": [
    "card=deck.pop(0) #draw the card at index 0 and remove it\n",
    "card"
   ]
  },
  {
   "cell_type": "markdown",
   "metadata": {},
   "source": [
    "This is a lot like drawing the first card from the pile."
   ]
  },
  {
   "cell_type": "code",
   "execution_count": 70,
   "metadata": {},
   "outputs": [
    {
     "data": {
      "text/plain": [
       "['A♢',\n",
       " '7♡',\n",
       " '6♤',\n",
       " 'K♢',\n",
       " '9♡',\n",
       " '6♧',\n",
       " '2♤',\n",
       " '4♡',\n",
       " '7♢',\n",
       " '5♡',\n",
       " '6♡',\n",
       " 'A♤',\n",
       " '9♢',\n",
       " 'A♧',\n",
       " '9♧',\n",
       " 'Q♧',\n",
       " 'J♢',\n",
       " '3♧',\n",
       " 'J♧',\n",
       " 'Q♤',\n",
       " '8♤',\n",
       " '4♤',\n",
       " 'K♡',\n",
       " '10♢',\n",
       " '5♢',\n",
       " 'A♡',\n",
       " 'Q♡',\n",
       " '4♧',\n",
       " '9♤',\n",
       " '5♤',\n",
       " '3♢',\n",
       " '8♡',\n",
       " 'K♧',\n",
       " 'J♤',\n",
       " '10♤',\n",
       " '5♧',\n",
       " 'J♡',\n",
       " '7♤',\n",
       " '7♧',\n",
       " '3♡',\n",
       " 'K♤',\n",
       " '2♢',\n",
       " '8♧',\n",
       " 'Q♢',\n",
       " '8♢',\n",
       " '10♡',\n",
       " '4♢',\n",
       " '3♤',\n",
       " '2♡',\n",
       " '10♧',\n",
       " '2♧']"
      ]
     },
     "execution_count": 70,
     "metadata": {},
     "output_type": "execute_result"
    }
   ],
   "source": [
    "deck"
   ]
  },
  {
   "cell_type": "markdown",
   "metadata": {},
   "source": [
    "Since we're going to be drawing a lot of cards, let's make this action into a nice function:"
   ]
  },
  {
   "cell_type": "code",
   "execution_count": 71,
   "metadata": {},
   "outputs": [],
   "source": [
    "def draw_top(d):\n",
    "    return d.pop(0)"
   ]
  },
  {
   "cell_type": "code",
   "execution_count": 72,
   "metadata": {},
   "outputs": [
    {
     "data": {
      "text/plain": [
       "'A♢'"
      ]
     },
     "execution_count": 72,
     "metadata": {},
     "output_type": "execute_result"
    }
   ],
   "source": [
    "draw_top(deck)"
   ]
  },
  {
   "cell_type": "markdown",
   "metadata": {},
   "source": [
    "Eventually though, we will want to be able to draw a random card and then remove that card from the deck. We can do that with the `remove( )` method:"
   ]
  },
  {
   "cell_type": "code",
   "execution_count": 73,
   "metadata": {},
   "outputs": [
    {
     "name": "stdout",
     "output_type": "stream",
     "text": [
      "6♤\n"
     ]
    }
   ],
   "source": [
    "draw = random.choice(deck)\n",
    "deck.remove(draw) #draw holds our card\n",
    "print(draw)"
   ]
  },
  {
   "cell_type": "code",
   "execution_count": 74,
   "metadata": {},
   "outputs": [
    {
     "data": {
      "text/plain": [
       "['7♡',\n",
       " 'K♢',\n",
       " '9♡',\n",
       " '6♧',\n",
       " '2♤',\n",
       " '4♡',\n",
       " '7♢',\n",
       " '5♡',\n",
       " '6♡',\n",
       " 'A♤',\n",
       " '9♢',\n",
       " 'A♧',\n",
       " '9♧',\n",
       " 'Q♧',\n",
       " 'J♢',\n",
       " '3♧',\n",
       " 'J♧',\n",
       " 'Q♤',\n",
       " '8♤',\n",
       " '4♤',\n",
       " 'K♡',\n",
       " '10♢',\n",
       " '5♢',\n",
       " 'A♡',\n",
       " 'Q♡',\n",
       " '4♧',\n",
       " '9♤',\n",
       " '5♤',\n",
       " '3♢',\n",
       " '8♡',\n",
       " 'K♧',\n",
       " 'J♤',\n",
       " '10♤',\n",
       " '5♧',\n",
       " 'J♡',\n",
       " '7♤',\n",
       " '7♧',\n",
       " '3♡',\n",
       " 'K♤',\n",
       " '2♢',\n",
       " '8♧',\n",
       " 'Q♢',\n",
       " '8♢',\n",
       " '10♡',\n",
       " '4♢',\n",
       " '3♤',\n",
       " '2♡',\n",
       " '10♧',\n",
       " '2♧']"
      ]
     },
     "execution_count": 74,
     "metadata": {},
     "output_type": "execute_result"
    }
   ],
   "source": [
    "deck #now the deck doesn't have that card either"
   ]
  },
  {
   "cell_type": "markdown",
   "metadata": {},
   "source": [
    "It would probably be convenient to make a function that does this for us, since we'll be doing it a lot. Give it a try! Write a function `draw_card( )` that takes a list of cards as an input, chooses one at random, removes it from the list and returns it!"
   ]
  },
  {
   "cell_type": "code",
   "execution_count": 75,
   "metadata": {},
   "outputs": [],
   "source": [
    "def draw_card(d):\n",
    "    draw = random.choice(d)\n",
    "    d.remove(draw)\n",
    "    return draw# give it a try, scroll down to see my solution \n",
    "    #I did not know how to do this one"
   ]
  },
  {
   "cell_type": "code",
   "execution_count": 76,
   "metadata": {},
   "outputs": [
    {
     "data": {
      "text/plain": [
       "'Nothing to see here folks\\n.\\n.\\n.\\n.\\n.\\n.\\nThis is a placeholder so you can\\'t see my answer...\\n.\\n.\\n.\\n.\\n.\\nMy answer is below, but try it above first!\\n.\\n.\\n.\\n.\\n.\\nReally, give it a try!\\n.\\n.\\n.\\n.\\n.\\n.\\n.\\n.\\n.\\n.\\n.\\n.\\nRemember, \"mistakes are proof that you are trying!'"
      ]
     },
     "execution_count": 76,
     "metadata": {},
     "output_type": "execute_result"
    }
   ],
   "source": [
    "\"\"\"Nothing to see here folks\n",
    ".\n",
    ".\n",
    ".\n",
    ".\n",
    ".\n",
    ".\n",
    "This is a placeholder so you can't see my answer...\n",
    ".\n",
    ".\n",
    ".\n",
    ".\n",
    ".\n",
    "My answer is below, but try it above first!\n",
    ".\n",
    ".\n",
    ".\n",
    ".\n",
    ".\n",
    "Really, give it a try!\n",
    ".\n",
    ".\n",
    ".\n",
    ".\n",
    ".\n",
    ".\n",
    ".\n",
    ".\n",
    ".\n",
    ".\n",
    ".\n",
    ".\n",
    "Remember, \"mistakes are proof that you are trying!\"\"\""
   ]
  },
  {
   "cell_type": "code",
   "execution_count": 77,
   "metadata": {},
   "outputs": [],
   "source": [
    "def draw_card(d):\n",
    "    draw=random.choice(d)\n",
    "    d.remove(draw)\n",
    "    return draw"
   ]
  },
  {
   "cell_type": "code",
   "execution_count": 78,
   "metadata": {},
   "outputs": [
    {
     "data": {
      "text/plain": [
       "'9♢'"
      ]
     },
     "execution_count": 78,
     "metadata": {},
     "output_type": "execute_result"
    }
   ],
   "source": [
    "draw_card(deck)"
   ]
  },
  {
   "cell_type": "code",
   "execution_count": 79,
   "metadata": {},
   "outputs": [
    {
     "data": {
      "text/plain": [
       "48"
      ]
     },
     "execution_count": 79,
     "metadata": {},
     "output_type": "execute_result"
    }
   ],
   "source": [
    "len(deck)"
   ]
  },
  {
   "cell_type": "markdown",
   "metadata": {},
   "source": [
    "How'd you do? Ok, well we're pretty well set up to do some random card experiments now. Let's start by resetting our deck of cards:"
   ]
  },
  {
   "cell_type": "code",
   "execution_count": 80,
   "metadata": {},
   "outputs": [],
   "source": [
    "deck=make_deck()"
   ]
  },
  {
   "cell_type": "markdown",
   "metadata": {},
   "source": [
    "Let's draw a random card and check if it's an ace. Keep running the cell if it's not an ace!"
   ]
  },
  {
   "cell_type": "code",
   "execution_count": 86,
   "metadata": {},
   "outputs": [],
   "source": [
    "card=draw_card(deck)\n",
    "if card[0]=='A':\n",
    "    print(\"Wow, it's an Ace! Unbelievable!!\")"
   ]
  },
  {
   "cell_type": "markdown",
   "metadata": {},
   "source": [
    "How many times did you have to run the code cell until you got an ace?\n",
    "\n",
    "Remember, `draw_card()` is removing cards every time you run it! How many cards are left?"
   ]
  },
  {
   "cell_type": "code",
   "execution_count": 82,
   "metadata": {},
   "outputs": [
    {
     "data": {
      "text/plain": [
       "51"
      ]
     },
     "execution_count": 82,
     "metadata": {},
     "output_type": "execute_result"
    }
   ],
   "source": [
    "len(deck)"
   ]
  },
  {
   "cell_type": "markdown",
   "metadata": {},
   "source": [
    "What is the simple probability of drawing an ace?\n"
   ]
  },
  {
   "cell_type": "code",
   "execution_count": 83,
   "metadata": {},
   "outputs": [
    {
     "data": {
      "text/plain": [
       "0.07692307692307693"
      ]
     },
     "execution_count": 83,
     "metadata": {},
     "output_type": "execute_result"
    }
   ],
   "source": [
    "4/52# your calculation here"
   ]
  },
  {
   "cell_type": "markdown",
   "metadata": {},
   "source": [
    "### Last experiments"
   ]
  },
  {
   "cell_type": "markdown",
   "metadata": {},
   "source": [
    "Now, write some code to set up an experiment: shuffle the deck and pick the top card. Do this 100 times. Calculate the experimental probability of drawing an ace!\n",
    "#### (hint, just use `deck[0]`, not our `draw_card()` function, since we want to keep the card in the deck!)"
   ]
  },
  {
   "cell_type": "code",
   "execution_count": 84,
   "metadata": {},
   "outputs": [],
   "source": [
    "deck[0]# start by defining an empty holder for the draws\n",
    "for i in range(100):\n",
    "    random.shuffle(deck)\n",
    "    draw\n",
    "# next, use a for loop to repeat the shuffle/draw process 100 times\n",
    "\n",
    "    #inside the for loop, shuffle the deck\n",
    "    #then pick the top card, deck[0]\n",
    "    #and append it onto the empty list\n",
    "\n",
    "#finally, count the number of A cards\n",
    "\n",
    "#and divide that by how many total draws (100)\n"
   ]
  },
  {
   "cell_type": "markdown",
   "metadata": {},
   "source": [
    "And here's my final challenge to you! \n",
    "\n",
    "#### (And it's pretty dang challenging, I'd say)\n",
    "\n",
    "Write some code that:\n",
    "1. Resets the deck\n",
    "2. Draws 5 cards at random, and puts them into a \"hand\" (just a list, in this case)\n",
    "3. Records this hand of cards\n",
    "4. Repeats items 1, 2 and 3 100 times.\n",
    "5. Caculates the experimental probability of drawing at least one ace when you draw 5 cards at random "
   ]
  },
  {
   "cell_type": "code",
   "execution_count": 119,
   "metadata": {},
   "outputs": [
    {
     "name": "stdout",
     "output_type": "stream",
     "text": [
      "0\n",
      "1\n",
      "2\n",
      "3\n",
      "4\n",
      "5\n"
     ]
    }
   ],
   "source": [
    "deck=make_deck()\n",
    "for draw in range(6):\n",
    "    print(draw)\n",
    "#draw_card(deck)*5# your code here"
   ]
  },
  {
   "cell_type": "markdown",
   "metadata": {},
   "source": [
    "Ok, folks, I hope you found this primer on probability and statistics with python an interesting challenge! I am excited to see what you all come up with. Please reach out with any and all questions, or just to get a hint!\n"
   ]
  },
  {
   "cell_type": "markdown",
   "metadata": {},
   "source": [
    "Written by John Platter, 2020"
   ]
  }
 ],
 "metadata": {
  "kernelspec": {
   "display_name": "Python 3 (ipykernel)",
   "language": "python",
   "name": "python3"
  },
  "language_info": {
   "codemirror_mode": {
    "name": "ipython",
    "version": 3
   },
   "file_extension": ".py",
   "mimetype": "text/x-python",
   "name": "python",
   "nbconvert_exporter": "python",
   "pygments_lexer": "ipython3",
   "version": "3.9.5"
  }
 },
 "nbformat": 4,
 "nbformat_minor": 4
}
