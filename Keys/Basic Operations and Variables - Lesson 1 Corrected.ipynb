{
 "cells": [
  {
   "cell_type": "markdown",
   "metadata": {},
   "source": [
    "# We can use python a lot like a calculator!\n",
    "## Try crunching some numbers real quick below. Use a different code cell for each.\n",
    "- $\\frac{77-6}{10}$\n",
    "- The average of 4, 5, 8, 9 and 100\n",
    "- $20+\\frac{80}{4}$\n",
    "- $8\\cdot2-3^{2}+5\\cdot2$\n",
    "- Half the difference of 200 and 50\n",
    "- 4 to the power of 10"
   ]
  },
  {
   "cell_type": "code",
   "execution_count": 1,
   "metadata": {},
   "outputs": [
    {
     "data": {
      "text/plain": [
       "10000"
      ]
     },
     "execution_count": 1,
     "metadata": {},
     "output_type": "execute_result"
    }
   ],
   "source": [
    "10**4"
   ]
  },
  {
   "cell_type": "markdown",
   "metadata": {},
   "source": [
    "# Python can also be used a lot like algebra expressions. \n",
    "## Solve the following problem, but first assign b and h number values, then use the variables in your code\n",
    "\n",
    "Find the area of a triangle with a base of 10 and a height of 3, using the formula $$Area = \\frac{base\\cdot height}{2}$$"
   ]
  },
  {
   "cell_type": "code",
   "execution_count": 2,
   "metadata": {},
   "outputs": [
    {
     "data": {
      "text/plain": [
       "15.0"
      ]
     },
     "execution_count": 2,
     "metadata": {},
     "output_type": "execute_result"
    }
   ],
   "source": [
    "10*3/2"
   ]
  },
  {
   "attachments": {
    "image.png": {
     "image/png": "[encoded data removed]"
    }
   },
   "cell_type": "markdown",
   "metadata": {},
   "source": [
    "# Now show your work the same way for this one!\n",
    "\n",
    "![image.png](attachment:image.png)\n",
    "\n",
    "PS: The area of a Trapezoid is $$\\frac{(base_{1} + base_{2})\\cdot height}{2}$$"
   ]
  },
  {
   "cell_type": "markdown",
   "metadata": {},
   "source": [
    "## Now, use python to substitute the mathematical values into these variables and evaluate the expressions:\n",
    "\n",
    "- $x+y;$  \n",
    "$x=1, y=100$"
   ]
  },
  {
   "cell_type": "code",
   "execution_count": 2,
   "metadata": {},
   "outputs": [
    {
     "data": {
      "text/plain": [
       "101"
      ]
     },
     "execution_count": 2,
     "metadata": {},
     "output_type": "execute_result"
    }
   ],
   "source": [
    "1+100"
   ]
  },
  {
   "cell_type": "markdown",
   "metadata": {},
   "source": [
    "- $a^{2}+b^{2};$  \n",
    "$a=4, b=5$"
   ]
  },
  {
   "cell_type": "code",
   "execution_count": 5,
   "metadata": {},
   "outputs": [
    {
     "data": {
      "text/plain": [
       "41"
      ]
     },
     "execution_count": 5,
     "metadata": {},
     "output_type": "execute_result"
    }
   ],
   "source": [
    "4**2+5**2"
   ]
  },
  {
   "cell_type": "markdown",
   "metadata": {},
   "source": [
    "### mega challenge\n",
    "- ${\\frac{{ - b + \\sqrt {b^2 - 4ac} }}{{2a}}};$  \n",
    "$a=2, b=10, c=6$"
   ]
  },
  {
   "cell_type": "code",
   "execution_count": 9,
   "metadata": {},
   "outputs": [
    {
     "data": {
      "text/plain": [
       "2.0"
      ]
     },
     "execution_count": 9,
     "metadata": {},
     "output_type": "execute_result"
    }
   ],
   "source": [
    "#hint, use math.sqrt for the square root function!\n",
    "import math\n",
    "math.sqrt(4)"
   ]
  }
 ],
 "metadata": {
  "kernelspec": {
   "display_name": "Python 3 (ipykernel)",
   "language": "python",
   "name": "python3"
  },
  "language_info": {
   "codemirror_mode": {
    "name": "ipython",
    "version": 3
   },
   "file_extension": ".py",
   "mimetype": "text/x-python",
   "name": "python",
   "nbconvert_exporter": "python",
   "pygments_lexer": "ipython3",
   "version": "3.9.5"
  }
 },
 "nbformat": 4,
 "nbformat_minor": 4
}
